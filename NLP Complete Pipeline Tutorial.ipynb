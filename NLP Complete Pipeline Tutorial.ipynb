{
 "cells": [
  {
   "cell_type": "markdown",
   "id": "a95aa62c-e9d8-48ea-a2ff-6ac20f21de5d",
   "metadata": {},
   "source": [
    "# NLP ( Natural language Processing )"
   ]
  },
  {
   "cell_type": "markdown",
   "id": "f120d018-f9ea-49a7-92b1-2683f878b416",
   "metadata": {},
   "source": [
    "# NLP Pipeline\n",
    "Step 1: Acquitisation ---> Step 2: Text preprocessing ---> Step 3: Featuring engine ---> Step 4: Modeling ---> Step 5: Evalution ---> Step 6: Deployment"
   ]
  },
  {
   "cell_type": "markdown",
   "id": "b2fbf2b1-8e47-4d50-aa26-07efed374973",
   "metadata": {},
   "source": [
    "## Step 1: Data Gathering"
   ]
  },
  {
   "cell_type": "markdown",
   "id": "d12b319a-8bde-4e6d-999d-d58c8daadb45",
   "metadata": {},
   "source": [
    "Can Gather Data from source like CSV / EXCEL / JSON / SQL "
   ]
  },
  {
   "cell_type": "code",
   "execution_count": 5,
   "id": "83f9e22e-5558-49e6-a6c9-7c0d50dcab9a",
   "metadata": {},
   "outputs": [],
   "source": [
    "import pandas as pd"
   ]
  },
  {
   "cell_type": "markdown",
   "id": "962deae2-e04d-4e4f-a3a5-481d02501672",
   "metadata": {},
   "source": [
    "### CSV"
   ]
  },
  {
   "cell_type": "code",
   "execution_count": 6,
   "id": "d1bb05f1-47b2-416b-871d-f7855f556a6e",
   "metadata": {},
   "outputs": [
    {
     "data": {
      "text/html": [
       "<div>\n",
       "<style scoped>\n",
       "    .dataframe tbody tr th:only-of-type {\n",
       "        vertical-align: middle;\n",
       "    }\n",
       "\n",
       "    .dataframe tbody tr th {\n",
       "        vertical-align: top;\n",
       "    }\n",
       "\n",
       "    .dataframe thead th {\n",
       "        text-align: right;\n",
       "    }\n",
       "</style>\n",
       "<table border=\"1\" class=\"dataframe\">\n",
       "  <thead>\n",
       "    <tr style=\"text-align: right;\">\n",
       "      <th></th>\n",
       "      <th>Unnamed: 0</th>\n",
       "      <th>Clothing ID</th>\n",
       "      <th>Age</th>\n",
       "      <th>Title</th>\n",
       "      <th>Review Text</th>\n",
       "      <th>Rating</th>\n",
       "      <th>Recommended IND</th>\n",
       "      <th>Positive Feedback Count</th>\n",
       "      <th>Division Name</th>\n",
       "      <th>Department Name</th>\n",
       "      <th>Class Name</th>\n",
       "    </tr>\n",
       "  </thead>\n",
       "  <tbody>\n",
       "    <tr>\n",
       "      <th>0</th>\n",
       "      <td>0</td>\n",
       "      <td>767</td>\n",
       "      <td>33</td>\n",
       "      <td>NaN</td>\n",
       "      <td>Absolutely wonderful - silky and sexy and comf...</td>\n",
       "      <td>4</td>\n",
       "      <td>1</td>\n",
       "      <td>0</td>\n",
       "      <td>Initmates</td>\n",
       "      <td>Intimate</td>\n",
       "      <td>Intimates</td>\n",
       "    </tr>\n",
       "    <tr>\n",
       "      <th>1</th>\n",
       "      <td>1</td>\n",
       "      <td>1080</td>\n",
       "      <td>34</td>\n",
       "      <td>NaN</td>\n",
       "      <td>Love this dress!  it's sooo pretty.  i happene...</td>\n",
       "      <td>5</td>\n",
       "      <td>1</td>\n",
       "      <td>4</td>\n",
       "      <td>General</td>\n",
       "      <td>Dresses</td>\n",
       "      <td>Dresses</td>\n",
       "    </tr>\n",
       "    <tr>\n",
       "      <th>2</th>\n",
       "      <td>2</td>\n",
       "      <td>1077</td>\n",
       "      <td>60</td>\n",
       "      <td>Some major design flaws</td>\n",
       "      <td>I had such high hopes for this dress and reall...</td>\n",
       "      <td>3</td>\n",
       "      <td>0</td>\n",
       "      <td>0</td>\n",
       "      <td>General</td>\n",
       "      <td>Dresses</td>\n",
       "      <td>Dresses</td>\n",
       "    </tr>\n",
       "    <tr>\n",
       "      <th>3</th>\n",
       "      <td>3</td>\n",
       "      <td>1049</td>\n",
       "      <td>50</td>\n",
       "      <td>My favorite buy!</td>\n",
       "      <td>I love, love, love this jumpsuit. it's fun, fl...</td>\n",
       "      <td>5</td>\n",
       "      <td>1</td>\n",
       "      <td>0</td>\n",
       "      <td>General Petite</td>\n",
       "      <td>Bottoms</td>\n",
       "      <td>Pants</td>\n",
       "    </tr>\n",
       "    <tr>\n",
       "      <th>4</th>\n",
       "      <td>4</td>\n",
       "      <td>847</td>\n",
       "      <td>47</td>\n",
       "      <td>Flattering shirt</td>\n",
       "      <td>This shirt is very flattering to all due to th...</td>\n",
       "      <td>5</td>\n",
       "      <td>1</td>\n",
       "      <td>6</td>\n",
       "      <td>General</td>\n",
       "      <td>Tops</td>\n",
       "      <td>Blouses</td>\n",
       "    </tr>\n",
       "  </tbody>\n",
       "</table>\n",
       "</div>"
      ],
      "text/plain": [
       "   Unnamed: 0  Clothing ID  Age                    Title  \\\n",
       "0           0          767   33                      NaN   \n",
       "1           1         1080   34                      NaN   \n",
       "2           2         1077   60  Some major design flaws   \n",
       "3           3         1049   50         My favorite buy!   \n",
       "4           4          847   47         Flattering shirt   \n",
       "\n",
       "                                         Review Text  Rating  Recommended IND  \\\n",
       "0  Absolutely wonderful - silky and sexy and comf...       4                1   \n",
       "1  Love this dress!  it's sooo pretty.  i happene...       5                1   \n",
       "2  I had such high hopes for this dress and reall...       3                0   \n",
       "3  I love, love, love this jumpsuit. it's fun, fl...       5                1   \n",
       "4  This shirt is very flattering to all due to th...       5                1   \n",
       "\n",
       "   Positive Feedback Count   Division Name Department Name Class Name  \n",
       "0                        0       Initmates        Intimate  Intimates  \n",
       "1                        4         General         Dresses    Dresses  \n",
       "2                        0         General         Dresses    Dresses  \n",
       "3                        0  General Petite         Bottoms      Pants  \n",
       "4                        6         General            Tops    Blouses  "
      ]
     },
     "execution_count": 6,
     "metadata": {},
     "output_type": "execute_result"
    }
   ],
   "source": [
    "# From localhost CSV\n",
    "data = pd.read_csv(\"C://Users//mdbab//OneDrive//Desktop//archive//Womens Clothing E-Commerce Reviews.csv\")\n",
    "data.head()"
   ]
  },
  {
   "cell_type": "code",
   "execution_count": 3,
   "id": "9e058917-a2fb-4cc4-889f-cad5409e2bfd",
   "metadata": {},
   "outputs": [],
   "source": [
    "# From URL CSV\n",
    "\n",
    "from io import StringIO\n",
    "\n",
    "url = \" \"\n",
    "headers = \" \"\n",
    "req = request.get(url,headers = headers)\n",
    "data = StringIO(req.text)\n",
    "\n",
    "pd.read_csv(data)"
   ]
  },
  {
   "cell_type": "markdown",
   "id": "3d3a5a8b-3c14-4884-9d4c-b083377b7f30",
   "metadata": {},
   "source": [
    "### JSON"
   ]
  },
  {
   "cell_type": "code",
   "execution_count": null,
   "id": "a99dd581-5947-4f72-aba3-8f93c85502fe",
   "metadata": {},
   "outputs": [],
   "source": [
    "# From localhost\n",
    "pd.read_json('File path')"
   ]
  },
  {
   "cell_type": "code",
   "execution_count": null,
   "id": "4a91f735-49ba-47b6-9ca1-1b0c37d89a51",
   "metadata": {},
   "outputs": [],
   "source": [
    "# From URL\n",
    "pd.read_json('url link')"
   ]
  },
  {
   "cell_type": "markdown",
   "id": "77ac9dc2-4437-4b62-9f69-41cc89efb561",
   "metadata": {},
   "source": [
    "### SQL"
   ]
  },
  {
   "cell_type": "code",
   "execution_count": null,
   "id": "ea3b1f7d-1f90-4817-a3ca-516b5e1a90b9",
   "metadata": {},
   "outputs": [],
   "source": [
    "!pip install mysql.connector -q"
   ]
  },
  {
   "cell_type": "code",
   "execution_count": null,
   "id": "770521ea-b48b-4255-ae94-21adcb8afb2f",
   "metadata": {},
   "outputs": [],
   "source": [
    "import mysql.connector"
   ]
  },
  {
   "cell_type": "code",
   "execution_count": null,
   "id": "bfa4ff55-9c4e-49fa-869f-34425eed4f07",
   "metadata": {},
   "outputs": [],
   "source": [
    "conn = mysql.connector.Connect(host = 'localhost', user = 'root', password = '', database = ' database name')\n",
    "data = pd.read_sql_query('sql query',conn)"
   ]
  },
  {
   "cell_type": "code",
   "execution_count": null,
   "id": "cb4f58ee-944a-4fd1-8b09-897311da322b",
   "metadata": {},
   "outputs": [],
   "source": []
  },
  {
   "cell_type": "markdown",
   "id": "fa617c28-e977-4c5c-b522-1a06845883c5",
   "metadata": {},
   "source": [
    "## Step 2: Text Preprocessing"
   ]
  },
  {
   "cell_type": "markdown",
   "id": "77323e30-c28f-4b62-ad78-ddb9b1257925",
   "metadata": {},
   "source": [
    "Preprocessing Tasks :\n",
    "01 ) Lowercasing.\n",
    "02 ) Removing HTML tags.\n",
    "03 ) Removing URLs.\n",
    "04 ) Remove Punctuations.\n",
    "05 ) Chat word treatment.\n",
    "06 ) Spelling correction.\n",
    "07 ) Removing Stop words.\n",
    "08 ) Handling emojis.\n",
    "07 ) Tokenization\n",
    "08 ) Stemming.\n",
    "09 ) Lematization."
   ]
  },
  {
   "cell_type": "markdown",
   "id": "47a8faba-dcf6-49a4-89e9-02116046c662",
   "metadata": {},
   "source": [
    "##### Lowercasing"
   ]
  },
  {
   "cell_type": "code",
   "execution_count": 7,
   "id": "84899943-3ad3-4235-bf86-0f79b1ccc97b",
   "metadata": {},
   "outputs": [
    {
     "data": {
      "text/plain": [
       "'hyderabad was once the global center for trading rare diamonds, emeralds, and natural pearls, and was known as the city of pearls.'"
      ]
     },
     "execution_count": 7,
     "metadata": {},
     "output_type": "execute_result"
    }
   ],
   "source": [
    "text = \"Hyderabad was once the global center for trading rare diamonds, emeralds, and natural pearls, and was known as the City of Pearls.\"\n",
    "text.lower()"
   ]
  },
  {
   "cell_type": "code",
   "execution_count": 8,
   "id": "311ff5a3-78f3-41eb-bb74-df77c1ebd41f",
   "metadata": {},
   "outputs": [
    {
     "data": {
      "text/html": [
       "<div>\n",
       "<style scoped>\n",
       "    .dataframe tbody tr th:only-of-type {\n",
       "        vertical-align: middle;\n",
       "    }\n",
       "\n",
       "    .dataframe tbody tr th {\n",
       "        vertical-align: top;\n",
       "    }\n",
       "\n",
       "    .dataframe thead th {\n",
       "        text-align: right;\n",
       "    }\n",
       "</style>\n",
       "<table border=\"1\" class=\"dataframe\">\n",
       "  <thead>\n",
       "    <tr style=\"text-align: right;\">\n",
       "      <th></th>\n",
       "      <th>Unnamed: 0</th>\n",
       "      <th>Clothing ID</th>\n",
       "      <th>Age</th>\n",
       "      <th>Title</th>\n",
       "      <th>Review Text</th>\n",
       "      <th>Rating</th>\n",
       "      <th>Recommended IND</th>\n",
       "      <th>Positive Feedback Count</th>\n",
       "      <th>Division Name</th>\n",
       "      <th>Department Name</th>\n",
       "      <th>Class Name</th>\n",
       "    </tr>\n",
       "  </thead>\n",
       "  <tbody>\n",
       "    <tr>\n",
       "      <th>0</th>\n",
       "      <td>0</td>\n",
       "      <td>767</td>\n",
       "      <td>33</td>\n",
       "      <td>NaN</td>\n",
       "      <td>absolutely wonderful - silky and sexy and comf...</td>\n",
       "      <td>4</td>\n",
       "      <td>1</td>\n",
       "      <td>0</td>\n",
       "      <td>Initmates</td>\n",
       "      <td>Intimate</td>\n",
       "      <td>Intimates</td>\n",
       "    </tr>\n",
       "    <tr>\n",
       "      <th>1</th>\n",
       "      <td>1</td>\n",
       "      <td>1080</td>\n",
       "      <td>34</td>\n",
       "      <td>NaN</td>\n",
       "      <td>love this dress!  it's sooo pretty.  i happene...</td>\n",
       "      <td>5</td>\n",
       "      <td>1</td>\n",
       "      <td>4</td>\n",
       "      <td>General</td>\n",
       "      <td>Dresses</td>\n",
       "      <td>Dresses</td>\n",
       "    </tr>\n",
       "    <tr>\n",
       "      <th>2</th>\n",
       "      <td>2</td>\n",
       "      <td>1077</td>\n",
       "      <td>60</td>\n",
       "      <td>Some major design flaws</td>\n",
       "      <td>i had such high hopes for this dress and reall...</td>\n",
       "      <td>3</td>\n",
       "      <td>0</td>\n",
       "      <td>0</td>\n",
       "      <td>General</td>\n",
       "      <td>Dresses</td>\n",
       "      <td>Dresses</td>\n",
       "    </tr>\n",
       "    <tr>\n",
       "      <th>3</th>\n",
       "      <td>3</td>\n",
       "      <td>1049</td>\n",
       "      <td>50</td>\n",
       "      <td>My favorite buy!</td>\n",
       "      <td>i love, love, love this jumpsuit. it's fun, fl...</td>\n",
       "      <td>5</td>\n",
       "      <td>1</td>\n",
       "      <td>0</td>\n",
       "      <td>General Petite</td>\n",
       "      <td>Bottoms</td>\n",
       "      <td>Pants</td>\n",
       "    </tr>\n",
       "    <tr>\n",
       "      <th>4</th>\n",
       "      <td>4</td>\n",
       "      <td>847</td>\n",
       "      <td>47</td>\n",
       "      <td>Flattering shirt</td>\n",
       "      <td>this shirt is very flattering to all due to th...</td>\n",
       "      <td>5</td>\n",
       "      <td>1</td>\n",
       "      <td>6</td>\n",
       "      <td>General</td>\n",
       "      <td>Tops</td>\n",
       "      <td>Blouses</td>\n",
       "    </tr>\n",
       "  </tbody>\n",
       "</table>\n",
       "</div>"
      ],
      "text/plain": [
       "   Unnamed: 0  Clothing ID  Age                    Title  \\\n",
       "0           0          767   33                      NaN   \n",
       "1           1         1080   34                      NaN   \n",
       "2           2         1077   60  Some major design flaws   \n",
       "3           3         1049   50         My favorite buy!   \n",
       "4           4          847   47         Flattering shirt   \n",
       "\n",
       "                                         Review Text  Rating  Recommended IND  \\\n",
       "0  absolutely wonderful - silky and sexy and comf...       4                1   \n",
       "1  love this dress!  it's sooo pretty.  i happene...       5                1   \n",
       "2  i had such high hopes for this dress and reall...       3                0   \n",
       "3  i love, love, love this jumpsuit. it's fun, fl...       5                1   \n",
       "4  this shirt is very flattering to all due to th...       5                1   \n",
       "\n",
       "   Positive Feedback Count   Division Name Department Name Class Name  \n",
       "0                        0       Initmates        Intimate  Intimates  \n",
       "1                        4         General         Dresses    Dresses  \n",
       "2                        0         General         Dresses    Dresses  \n",
       "3                        0  General Petite         Bottoms      Pants  \n",
       "4                        6         General            Tops    Blouses  "
      ]
     },
     "execution_count": 8,
     "metadata": {},
     "output_type": "execute_result"
    }
   ],
   "source": [
    "# For comoplete column in a dataframe use \n",
    "data['Review Text'] = data['Review Text'].str.lower()\n",
    "data.head()"
   ]
  },
  {
   "cell_type": "markdown",
   "id": "04251b42-9174-4a4c-b3f6-2daa26420958",
   "metadata": {},
   "source": [
    "##### Removing HTML tags"
   ]
  },
  {
   "cell_type": "code",
   "execution_count": 9,
   "id": "bfd138a7-2652-4c2d-adbe-707aa79956e5",
   "metadata": {},
   "outputs": [],
   "source": [
    "import re\n",
    "def remove_html_tags(text):\n",
    "    pattern = re.compile('<.*?>')\n",
    "    return pattern.sub(r'',text)"
   ]
  },
  {
   "cell_type": "code",
   "execution_count": 10,
   "id": "8fa71c7f-13ef-440b-a9ff-de7cf29bf66f",
   "metadata": {},
   "outputs": [
    {
     "name": "stdout",
     "output_type": "stream",
     "text": [
      "HTML4 HTML5 is the latest version of HTML!HTML4 is deleted and HTML5 is inserted\n"
     ]
    }
   ],
   "source": [
    "text = \"<html><body><p><del>HTML4</del> <ins>HTML5</ins> is the latest version of HTML!</p><p>HTML4 is deleted and HTML5 is inserted</p></body></html>\"\n",
    "text = remove_html_tags(text)\n",
    "print(text)"
   ]
  },
  {
   "cell_type": "code",
   "execution_count": 11,
   "id": "29862744-af58-4a2a-b7c0-015f1e301cc6",
   "metadata": {},
   "outputs": [
    {
     "data": {
      "text/html": [
       "<div>\n",
       "<style scoped>\n",
       "    .dataframe tbody tr th:only-of-type {\n",
       "        vertical-align: middle;\n",
       "    }\n",
       "\n",
       "    .dataframe tbody tr th {\n",
       "        vertical-align: top;\n",
       "    }\n",
       "\n",
       "    .dataframe thead th {\n",
       "        text-align: right;\n",
       "    }\n",
       "</style>\n",
       "<table border=\"1\" class=\"dataframe\">\n",
       "  <thead>\n",
       "    <tr style=\"text-align: right;\">\n",
       "      <th></th>\n",
       "      <th>Unnamed: 0</th>\n",
       "      <th>Clothing ID</th>\n",
       "      <th>Age</th>\n",
       "      <th>Title</th>\n",
       "      <th>Review Text</th>\n",
       "      <th>Rating</th>\n",
       "      <th>Recommended IND</th>\n",
       "      <th>Positive Feedback Count</th>\n",
       "      <th>Division Name</th>\n",
       "      <th>Department Name</th>\n",
       "      <th>Class Name</th>\n",
       "    </tr>\n",
       "  </thead>\n",
       "  <tbody>\n",
       "    <tr>\n",
       "      <th>0</th>\n",
       "      <td>0</td>\n",
       "      <td>767</td>\n",
       "      <td>33</td>\n",
       "      <td>NaN</td>\n",
       "      <td>absolutely wonderful - silky and sexy and comf...</td>\n",
       "      <td>4</td>\n",
       "      <td>1</td>\n",
       "      <td>0</td>\n",
       "      <td>Initmates</td>\n",
       "      <td>Intimate</td>\n",
       "      <td>Intimates</td>\n",
       "    </tr>\n",
       "    <tr>\n",
       "      <th>1</th>\n",
       "      <td>1</td>\n",
       "      <td>1080</td>\n",
       "      <td>34</td>\n",
       "      <td>NaN</td>\n",
       "      <td>love this dress!  it's sooo pretty.  i happene...</td>\n",
       "      <td>5</td>\n",
       "      <td>1</td>\n",
       "      <td>4</td>\n",
       "      <td>General</td>\n",
       "      <td>Dresses</td>\n",
       "      <td>Dresses</td>\n",
       "    </tr>\n",
       "    <tr>\n",
       "      <th>2</th>\n",
       "      <td>2</td>\n",
       "      <td>1077</td>\n",
       "      <td>60</td>\n",
       "      <td>Some major design flaws</td>\n",
       "      <td>i had such high hopes for this dress and reall...</td>\n",
       "      <td>3</td>\n",
       "      <td>0</td>\n",
       "      <td>0</td>\n",
       "      <td>General</td>\n",
       "      <td>Dresses</td>\n",
       "      <td>Dresses</td>\n",
       "    </tr>\n",
       "    <tr>\n",
       "      <th>3</th>\n",
       "      <td>3</td>\n",
       "      <td>1049</td>\n",
       "      <td>50</td>\n",
       "      <td>My favorite buy!</td>\n",
       "      <td>i love, love, love this jumpsuit. it's fun, fl...</td>\n",
       "      <td>5</td>\n",
       "      <td>1</td>\n",
       "      <td>0</td>\n",
       "      <td>General Petite</td>\n",
       "      <td>Bottoms</td>\n",
       "      <td>Pants</td>\n",
       "    </tr>\n",
       "    <tr>\n",
       "      <th>4</th>\n",
       "      <td>4</td>\n",
       "      <td>847</td>\n",
       "      <td>47</td>\n",
       "      <td>Flattering shirt</td>\n",
       "      <td>this shirt is very flattering to all due to th...</td>\n",
       "      <td>5</td>\n",
       "      <td>1</td>\n",
       "      <td>6</td>\n",
       "      <td>General</td>\n",
       "      <td>Tops</td>\n",
       "      <td>Blouses</td>\n",
       "    </tr>\n",
       "  </tbody>\n",
       "</table>\n",
       "</div>"
      ],
      "text/plain": [
       "   Unnamed: 0  Clothing ID  Age                    Title  \\\n",
       "0           0          767   33                      NaN   \n",
       "1           1         1080   34                      NaN   \n",
       "2           2         1077   60  Some major design flaws   \n",
       "3           3         1049   50         My favorite buy!   \n",
       "4           4          847   47         Flattering shirt   \n",
       "\n",
       "                                         Review Text  Rating  Recommended IND  \\\n",
       "0  absolutely wonderful - silky and sexy and comf...       4                1   \n",
       "1  love this dress!  it's sooo pretty.  i happene...       5                1   \n",
       "2  i had such high hopes for this dress and reall...       3                0   \n",
       "3  i love, love, love this jumpsuit. it's fun, fl...       5                1   \n",
       "4  this shirt is very flattering to all due to th...       5                1   \n",
       "\n",
       "   Positive Feedback Count   Division Name Department Name Class Name  \n",
       "0                        0       Initmates        Intimate  Intimates  \n",
       "1                        4         General         Dresses    Dresses  \n",
       "2                        0         General         Dresses    Dresses  \n",
       "3                        0  General Petite         Bottoms      Pants  \n",
       "4                        6         General            Tops    Blouses  "
      ]
     },
     "execution_count": 11,
     "metadata": {},
     "output_type": "execute_result"
    }
   ],
   "source": [
    "# For complete column\n",
    "data['Review Text'] = data['Review Text'].astype('category')\n",
    "data['Review Text'] = data['Review Text'].apply(remove_html_tags)\n",
    "data.head()"
   ]
  },
  {
   "cell_type": "markdown",
   "id": "5b132744-a4b9-4ec7-8f88-9bec31bda531",
   "metadata": {},
   "source": [
    "##### Removing URLs"
   ]
  },
  {
   "cell_type": "code",
   "execution_count": 12,
   "id": "d51e28b3-490e-4885-8563-4e4e3b18ac65",
   "metadata": {},
   "outputs": [],
   "source": [
    "def remove_url(text):\n",
    "    pattern = re.compile(r'https?://\\S+|www\\.\\S+')\n",
    "    return pattern.sub(r'',text)"
   ]
  },
  {
   "cell_type": "code",
   "execution_count": 13,
   "id": "b52c226e-5dde-4f6d-b499-1b08773e900a",
   "metadata": {},
   "outputs": [
    {
     "data": {
      "text/plain": [
       "'For articles search on this link  or  and write a essay. '"
      ]
     },
     "execution_count": 13,
     "metadata": {},
     "output_type": "execute_result"
    }
   ],
   "source": [
    "text = \"For articles search on this link https://en.wikipedia.org or www.google.com and write a essay. \"\n",
    "remove_url(text)"
   ]
  },
  {
   "cell_type": "code",
   "execution_count": 14,
   "id": "ab260779-986b-4703-9855-784b2ed69f96",
   "metadata": {},
   "outputs": [
    {
     "data": {
      "text/html": [
       "<div>\n",
       "<style scoped>\n",
       "    .dataframe tbody tr th:only-of-type {\n",
       "        vertical-align: middle;\n",
       "    }\n",
       "\n",
       "    .dataframe tbody tr th {\n",
       "        vertical-align: top;\n",
       "    }\n",
       "\n",
       "    .dataframe thead th {\n",
       "        text-align: right;\n",
       "    }\n",
       "</style>\n",
       "<table border=\"1\" class=\"dataframe\">\n",
       "  <thead>\n",
       "    <tr style=\"text-align: right;\">\n",
       "      <th></th>\n",
       "      <th>Unnamed: 0</th>\n",
       "      <th>Clothing ID</th>\n",
       "      <th>Age</th>\n",
       "      <th>Title</th>\n",
       "      <th>Review Text</th>\n",
       "      <th>Rating</th>\n",
       "      <th>Recommended IND</th>\n",
       "      <th>Positive Feedback Count</th>\n",
       "      <th>Division Name</th>\n",
       "      <th>Department Name</th>\n",
       "      <th>Class Name</th>\n",
       "    </tr>\n",
       "  </thead>\n",
       "  <tbody>\n",
       "    <tr>\n",
       "      <th>0</th>\n",
       "      <td>0</td>\n",
       "      <td>767</td>\n",
       "      <td>33</td>\n",
       "      <td>NaN</td>\n",
       "      <td>absolutely wonderful - silky and sexy and comf...</td>\n",
       "      <td>4</td>\n",
       "      <td>1</td>\n",
       "      <td>0</td>\n",
       "      <td>Initmates</td>\n",
       "      <td>Intimate</td>\n",
       "      <td>Intimates</td>\n",
       "    </tr>\n",
       "    <tr>\n",
       "      <th>1</th>\n",
       "      <td>1</td>\n",
       "      <td>1080</td>\n",
       "      <td>34</td>\n",
       "      <td>NaN</td>\n",
       "      <td>love this dress!  it's sooo pretty.  i happene...</td>\n",
       "      <td>5</td>\n",
       "      <td>1</td>\n",
       "      <td>4</td>\n",
       "      <td>General</td>\n",
       "      <td>Dresses</td>\n",
       "      <td>Dresses</td>\n",
       "    </tr>\n",
       "    <tr>\n",
       "      <th>2</th>\n",
       "      <td>2</td>\n",
       "      <td>1077</td>\n",
       "      <td>60</td>\n",
       "      <td>Some major design flaws</td>\n",
       "      <td>i had such high hopes for this dress and reall...</td>\n",
       "      <td>3</td>\n",
       "      <td>0</td>\n",
       "      <td>0</td>\n",
       "      <td>General</td>\n",
       "      <td>Dresses</td>\n",
       "      <td>Dresses</td>\n",
       "    </tr>\n",
       "    <tr>\n",
       "      <th>3</th>\n",
       "      <td>3</td>\n",
       "      <td>1049</td>\n",
       "      <td>50</td>\n",
       "      <td>My favorite buy!</td>\n",
       "      <td>i love, love, love this jumpsuit. it's fun, fl...</td>\n",
       "      <td>5</td>\n",
       "      <td>1</td>\n",
       "      <td>0</td>\n",
       "      <td>General Petite</td>\n",
       "      <td>Bottoms</td>\n",
       "      <td>Pants</td>\n",
       "    </tr>\n",
       "    <tr>\n",
       "      <th>4</th>\n",
       "      <td>4</td>\n",
       "      <td>847</td>\n",
       "      <td>47</td>\n",
       "      <td>Flattering shirt</td>\n",
       "      <td>this shirt is very flattering to all due to th...</td>\n",
       "      <td>5</td>\n",
       "      <td>1</td>\n",
       "      <td>6</td>\n",
       "      <td>General</td>\n",
       "      <td>Tops</td>\n",
       "      <td>Blouses</td>\n",
       "    </tr>\n",
       "  </tbody>\n",
       "</table>\n",
       "</div>"
      ],
      "text/plain": [
       "   Unnamed: 0  Clothing ID  Age                    Title  \\\n",
       "0           0          767   33                      NaN   \n",
       "1           1         1080   34                      NaN   \n",
       "2           2         1077   60  Some major design flaws   \n",
       "3           3         1049   50         My favorite buy!   \n",
       "4           4          847   47         Flattering shirt   \n",
       "\n",
       "                                         Review Text  Rating  Recommended IND  \\\n",
       "0  absolutely wonderful - silky and sexy and comf...       4                1   \n",
       "1  love this dress!  it's sooo pretty.  i happene...       5                1   \n",
       "2  i had such high hopes for this dress and reall...       3                0   \n",
       "3  i love, love, love this jumpsuit. it's fun, fl...       5                1   \n",
       "4  this shirt is very flattering to all due to th...       5                1   \n",
       "\n",
       "   Positive Feedback Count   Division Name Department Name Class Name  \n",
       "0                        0       Initmates        Intimate  Intimates  \n",
       "1                        4         General         Dresses    Dresses  \n",
       "2                        0         General         Dresses    Dresses  \n",
       "3                        0  General Petite         Bottoms      Pants  \n",
       "4                        6         General            Tops    Blouses  "
      ]
     },
     "execution_count": 14,
     "metadata": {},
     "output_type": "execute_result"
    }
   ],
   "source": [
    "data['Review Text'] = data['Review Text'].apply(remove_url)\n",
    "data.head()"
   ]
  },
  {
   "cell_type": "markdown",
   "id": "93f81be5-c3d5-48a8-b1f0-a5a643cf1dc4",
   "metadata": {},
   "source": [
    "##### Removing Punctuation"
   ]
  },
  {
   "cell_type": "code",
   "execution_count": 15,
   "id": "d32623ed-dd48-4c01-841b-5a59e5e951a6",
   "metadata": {},
   "outputs": [
    {
     "data": {
      "text/plain": [
       "'!\"#$%&\\'()*+,-./:;<=>?@[\\\\]^_`{|}~'"
      ]
     },
     "execution_count": 15,
     "metadata": {},
     "output_type": "execute_result"
    }
   ],
   "source": [
    "import string\n",
    "string.punctuation"
   ]
  },
  {
   "cell_type": "code",
   "execution_count": 16,
   "id": "0d3c0936-c125-4bc6-973d-0de191f93236",
   "metadata": {},
   "outputs": [],
   "source": [
    "def remove_punc(text):\n",
    "    return text.translate(str.maketrans('','','!\"#$%&\\'()*+,-./:;<=>?@[\\\\]^_`{|}~'))"
   ]
  },
  {
   "cell_type": "code",
   "execution_count": 17,
   "id": "8518cf4d-4716-455e-a8c3-ff693698594c",
   "metadata": {},
   "outputs": [
    {
     "data": {
      "text/plain": [
       "' Hello can you hear me  '"
      ]
     },
     "execution_count": 17,
     "metadata": {},
     "output_type": "execute_result"
    }
   ],
   "source": [
    "text = ' Hello! can you hear me @ ?'\n",
    "remove_punc(text)"
   ]
  },
  {
   "cell_type": "code",
   "execution_count": 18,
   "id": "0df964d1-007b-42d6-8338-fc1c54cafd6f",
   "metadata": {},
   "outputs": [
    {
     "data": {
      "text/html": [
       "<div>\n",
       "<style scoped>\n",
       "    .dataframe tbody tr th:only-of-type {\n",
       "        vertical-align: middle;\n",
       "    }\n",
       "\n",
       "    .dataframe tbody tr th {\n",
       "        vertical-align: top;\n",
       "    }\n",
       "\n",
       "    .dataframe thead th {\n",
       "        text-align: right;\n",
       "    }\n",
       "</style>\n",
       "<table border=\"1\" class=\"dataframe\">\n",
       "  <thead>\n",
       "    <tr style=\"text-align: right;\">\n",
       "      <th></th>\n",
       "      <th>Unnamed: 0</th>\n",
       "      <th>Clothing ID</th>\n",
       "      <th>Age</th>\n",
       "      <th>Title</th>\n",
       "      <th>Review Text</th>\n",
       "      <th>Rating</th>\n",
       "      <th>Recommended IND</th>\n",
       "      <th>Positive Feedback Count</th>\n",
       "      <th>Division Name</th>\n",
       "      <th>Department Name</th>\n",
       "      <th>Class Name</th>\n",
       "    </tr>\n",
       "  </thead>\n",
       "  <tbody>\n",
       "    <tr>\n",
       "      <th>0</th>\n",
       "      <td>0</td>\n",
       "      <td>767</td>\n",
       "      <td>33</td>\n",
       "      <td>NaN</td>\n",
       "      <td>absolutely wonderful  silky and sexy and comfo...</td>\n",
       "      <td>4</td>\n",
       "      <td>1</td>\n",
       "      <td>0</td>\n",
       "      <td>Initmates</td>\n",
       "      <td>Intimate</td>\n",
       "      <td>Intimates</td>\n",
       "    </tr>\n",
       "    <tr>\n",
       "      <th>1</th>\n",
       "      <td>1</td>\n",
       "      <td>1080</td>\n",
       "      <td>34</td>\n",
       "      <td>NaN</td>\n",
       "      <td>love this dress  its sooo pretty  i happened t...</td>\n",
       "      <td>5</td>\n",
       "      <td>1</td>\n",
       "      <td>4</td>\n",
       "      <td>General</td>\n",
       "      <td>Dresses</td>\n",
       "      <td>Dresses</td>\n",
       "    </tr>\n",
       "    <tr>\n",
       "      <th>2</th>\n",
       "      <td>2</td>\n",
       "      <td>1077</td>\n",
       "      <td>60</td>\n",
       "      <td>Some major design flaws</td>\n",
       "      <td>i had such high hopes for this dress and reall...</td>\n",
       "      <td>3</td>\n",
       "      <td>0</td>\n",
       "      <td>0</td>\n",
       "      <td>General</td>\n",
       "      <td>Dresses</td>\n",
       "      <td>Dresses</td>\n",
       "    </tr>\n",
       "    <tr>\n",
       "      <th>3</th>\n",
       "      <td>3</td>\n",
       "      <td>1049</td>\n",
       "      <td>50</td>\n",
       "      <td>My favorite buy!</td>\n",
       "      <td>i love love love this jumpsuit its fun flirty ...</td>\n",
       "      <td>5</td>\n",
       "      <td>1</td>\n",
       "      <td>0</td>\n",
       "      <td>General Petite</td>\n",
       "      <td>Bottoms</td>\n",
       "      <td>Pants</td>\n",
       "    </tr>\n",
       "    <tr>\n",
       "      <th>4</th>\n",
       "      <td>4</td>\n",
       "      <td>847</td>\n",
       "      <td>47</td>\n",
       "      <td>Flattering shirt</td>\n",
       "      <td>this shirt is very flattering to all due to th...</td>\n",
       "      <td>5</td>\n",
       "      <td>1</td>\n",
       "      <td>6</td>\n",
       "      <td>General</td>\n",
       "      <td>Tops</td>\n",
       "      <td>Blouses</td>\n",
       "    </tr>\n",
       "  </tbody>\n",
       "</table>\n",
       "</div>"
      ],
      "text/plain": [
       "   Unnamed: 0  Clothing ID  Age                    Title  \\\n",
       "0           0          767   33                      NaN   \n",
       "1           1         1080   34                      NaN   \n",
       "2           2         1077   60  Some major design flaws   \n",
       "3           3         1049   50         My favorite buy!   \n",
       "4           4          847   47         Flattering shirt   \n",
       "\n",
       "                                         Review Text  Rating  Recommended IND  \\\n",
       "0  absolutely wonderful  silky and sexy and comfo...       4                1   \n",
       "1  love this dress  its sooo pretty  i happened t...       5                1   \n",
       "2  i had such high hopes for this dress and reall...       3                0   \n",
       "3  i love love love this jumpsuit its fun flirty ...       5                1   \n",
       "4  this shirt is very flattering to all due to th...       5                1   \n",
       "\n",
       "   Positive Feedback Count   Division Name Department Name Class Name  \n",
       "0                        0       Initmates        Intimate  Intimates  \n",
       "1                        4         General         Dresses    Dresses  \n",
       "2                        0         General         Dresses    Dresses  \n",
       "3                        0  General Petite         Bottoms      Pants  \n",
       "4                        6         General            Tops    Blouses  "
      ]
     },
     "execution_count": 18,
     "metadata": {},
     "output_type": "execute_result"
    }
   ],
   "source": [
    "data['Review Text'] = data['Review Text'].astype('category')\n",
    "data['Review Text'] = data['Review Text'].apply(remove_punc)\n",
    "data.head()"
   ]
  },
  {
   "cell_type": "markdown",
   "id": "92550bc9-d17f-4f4a-929d-70ede16fab22",
   "metadata": {},
   "source": [
    "##### Correcting Spelling Mistakes"
   ]
  },
  {
   "cell_type": "code",
   "execution_count": 15,
   "id": "b1036fff-ba41-4e7d-8dbe-88b8f2540812",
   "metadata": {},
   "outputs": [],
   "source": [
    "!pip install textblob -q"
   ]
  },
  {
   "cell_type": "code",
   "execution_count": 16,
   "id": "9f7e4423-79f6-4b8b-9944-6583b04f663a",
   "metadata": {},
   "outputs": [],
   "source": [
    "from textblob import TextBlob"
   ]
  },
  {
   "cell_type": "code",
   "execution_count": 17,
   "id": "fe5cf221-1c67-4713-a449-eebd4bb23f58",
   "metadata": {},
   "outputs": [
    {
     "data": {
      "text/plain": [
       "'German cars are best in segment because of their reliable engine, high performance and marvel engineering and designing'"
      ]
     },
     "execution_count": 17,
     "metadata": {},
     "output_type": "execute_result"
    }
   ],
   "source": [
    "text = 'German cars are best in segment beacause of their relable egine, hihg perfomance and marvel enginneeering and designing'\n",
    "\n",
    "def spell_cor(text):\n",
    "    textblb = TextBlob(text)\n",
    "    return textblb.correct().string\n",
    "spell_cor(text)"
   ]
  },
  {
   "cell_type": "code",
   "execution_count": 23,
   "id": "2da9b5d6-d3ec-48fc-8646-8a8bbe96c94e",
   "metadata": {
    "collapsed": true,
    "jupyter": {
     "outputs_hidden": true
    },
    "scrolled": true
   },
   "outputs": [
    {
     "ename": "TypeError",
     "evalue": "sequence item 59: expected str instance, NoneType found",
     "output_type": "error",
     "traceback": [
      "\u001b[1;31m---------------------------------------------------------------------------\u001b[0m",
      "\u001b[1;31mTypeError\u001b[0m                                 Traceback (most recent call last)",
      "Cell \u001b[1;32mIn[23], line 17\u001b[0m\n\u001b[0;32m     15\u001b[0m \u001b[38;5;66;03m# Apply the function to the DataFrame without using slow apply\u001b[39;00m\n\u001b[0;32m     16\u001b[0m data[\u001b[38;5;124m'\u001b[39m\u001b[38;5;124mReview Text\u001b[39m\u001b[38;5;124m'\u001b[39m] \u001b[38;5;241m=\u001b[39m data[\u001b[38;5;124m'\u001b[39m\u001b[38;5;124mReview Text\u001b[39m\u001b[38;5;124m'\u001b[39m]\u001b[38;5;241m.\u001b[39mastype(\u001b[38;5;124m'\u001b[39m\u001b[38;5;124mcategory\u001b[39m\u001b[38;5;124m'\u001b[39m)\n\u001b[1;32m---> 17\u001b[0m data[\u001b[38;5;124m'\u001b[39m\u001b[38;5;124mReview Text\u001b[39m\u001b[38;5;124m'\u001b[39m] \u001b[38;5;241m=\u001b[39m data[\u001b[38;5;124m'\u001b[39m\u001b[38;5;124mReview Text\u001b[39m\u001b[38;5;124m'\u001b[39m]\u001b[38;5;241m.\u001b[39mapply(fast_spell_cor)\n",
      "File \u001b[1;32m~\\new_anconda\\Lib\\site-packages\\pandas\\core\\series.py:4924\u001b[0m, in \u001b[0;36mSeries.apply\u001b[1;34m(self, func, convert_dtype, args, by_row, **kwargs)\u001b[0m\n\u001b[0;32m   4789\u001b[0m \u001b[38;5;28;01mdef\u001b[39;00m \u001b[38;5;21mapply\u001b[39m(\n\u001b[0;32m   4790\u001b[0m     \u001b[38;5;28mself\u001b[39m,\n\u001b[0;32m   4791\u001b[0m     func: AggFuncType,\n\u001b[1;32m   (...)\u001b[0m\n\u001b[0;32m   4796\u001b[0m     \u001b[38;5;241m*\u001b[39m\u001b[38;5;241m*\u001b[39mkwargs,\n\u001b[0;32m   4797\u001b[0m ) \u001b[38;5;241m-\u001b[39m\u001b[38;5;241m>\u001b[39m DataFrame \u001b[38;5;241m|\u001b[39m Series:\n\u001b[0;32m   4798\u001b[0m \u001b[38;5;250m    \u001b[39m\u001b[38;5;124;03m\"\"\"\u001b[39;00m\n\u001b[0;32m   4799\u001b[0m \u001b[38;5;124;03m    Invoke function on values of Series.\u001b[39;00m\n\u001b[0;32m   4800\u001b[0m \n\u001b[1;32m   (...)\u001b[0m\n\u001b[0;32m   4915\u001b[0m \u001b[38;5;124;03m    dtype: float64\u001b[39;00m\n\u001b[0;32m   4916\u001b[0m \u001b[38;5;124;03m    \"\"\"\u001b[39;00m\n\u001b[0;32m   4917\u001b[0m     \u001b[38;5;28;01mreturn\u001b[39;00m SeriesApply(\n\u001b[0;32m   4918\u001b[0m         \u001b[38;5;28mself\u001b[39m,\n\u001b[0;32m   4919\u001b[0m         func,\n\u001b[0;32m   4920\u001b[0m         convert_dtype\u001b[38;5;241m=\u001b[39mconvert_dtype,\n\u001b[0;32m   4921\u001b[0m         by_row\u001b[38;5;241m=\u001b[39mby_row,\n\u001b[0;32m   4922\u001b[0m         args\u001b[38;5;241m=\u001b[39margs,\n\u001b[0;32m   4923\u001b[0m         kwargs\u001b[38;5;241m=\u001b[39mkwargs,\n\u001b[1;32m-> 4924\u001b[0m     )\u001b[38;5;241m.\u001b[39mapply()\n",
      "File \u001b[1;32m~\\new_anconda\\Lib\\site-packages\\pandas\\core\\apply.py:1427\u001b[0m, in \u001b[0;36mSeriesApply.apply\u001b[1;34m(self)\u001b[0m\n\u001b[0;32m   1424\u001b[0m     \u001b[38;5;28;01mreturn\u001b[39;00m \u001b[38;5;28mself\u001b[39m\u001b[38;5;241m.\u001b[39mapply_compat()\n\u001b[0;32m   1426\u001b[0m \u001b[38;5;66;03m# self.func is Callable\u001b[39;00m\n\u001b[1;32m-> 1427\u001b[0m \u001b[38;5;28;01mreturn\u001b[39;00m \u001b[38;5;28mself\u001b[39m\u001b[38;5;241m.\u001b[39mapply_standard()\n",
      "File \u001b[1;32m~\\new_anconda\\Lib\\site-packages\\pandas\\core\\apply.py:1507\u001b[0m, in \u001b[0;36mSeriesApply.apply_standard\u001b[1;34m(self)\u001b[0m\n\u001b[0;32m   1501\u001b[0m \u001b[38;5;66;03m# row-wise access\u001b[39;00m\n\u001b[0;32m   1502\u001b[0m \u001b[38;5;66;03m# apply doesn't have a `na_action` keyword and for backward compat reasons\u001b[39;00m\n\u001b[0;32m   1503\u001b[0m \u001b[38;5;66;03m# we need to give `na_action=\"ignore\"` for categorical data.\u001b[39;00m\n\u001b[0;32m   1504\u001b[0m \u001b[38;5;66;03m# TODO: remove the `na_action=\"ignore\"` when that default has been changed in\u001b[39;00m\n\u001b[0;32m   1505\u001b[0m \u001b[38;5;66;03m#  Categorical (GH51645).\u001b[39;00m\n\u001b[0;32m   1506\u001b[0m action \u001b[38;5;241m=\u001b[39m \u001b[38;5;124m\"\u001b[39m\u001b[38;5;124mignore\u001b[39m\u001b[38;5;124m\"\u001b[39m \u001b[38;5;28;01mif\u001b[39;00m \u001b[38;5;28misinstance\u001b[39m(obj\u001b[38;5;241m.\u001b[39mdtype, CategoricalDtype) \u001b[38;5;28;01melse\u001b[39;00m \u001b[38;5;28;01mNone\u001b[39;00m\n\u001b[1;32m-> 1507\u001b[0m mapped \u001b[38;5;241m=\u001b[39m obj\u001b[38;5;241m.\u001b[39m_map_values(\n\u001b[0;32m   1508\u001b[0m     mapper\u001b[38;5;241m=\u001b[39mcurried, na_action\u001b[38;5;241m=\u001b[39maction, convert\u001b[38;5;241m=\u001b[39m\u001b[38;5;28mself\u001b[39m\u001b[38;5;241m.\u001b[39mconvert_dtype\n\u001b[0;32m   1509\u001b[0m )\n\u001b[0;32m   1511\u001b[0m \u001b[38;5;28;01mif\u001b[39;00m \u001b[38;5;28mlen\u001b[39m(mapped) \u001b[38;5;129;01mand\u001b[39;00m \u001b[38;5;28misinstance\u001b[39m(mapped[\u001b[38;5;241m0\u001b[39m], ABCSeries):\n\u001b[0;32m   1512\u001b[0m     \u001b[38;5;66;03m# GH#43986 Need to do list(mapped) in order to get treated as nested\u001b[39;00m\n\u001b[0;32m   1513\u001b[0m     \u001b[38;5;66;03m#  See also GH#25959 regarding EA support\u001b[39;00m\n\u001b[0;32m   1514\u001b[0m     \u001b[38;5;28;01mreturn\u001b[39;00m obj\u001b[38;5;241m.\u001b[39m_constructor_expanddim(\u001b[38;5;28mlist\u001b[39m(mapped), index\u001b[38;5;241m=\u001b[39mobj\u001b[38;5;241m.\u001b[39mindex)\n",
      "File \u001b[1;32m~\\new_anconda\\Lib\\site-packages\\pandas\\core\\base.py:919\u001b[0m, in \u001b[0;36mIndexOpsMixin._map_values\u001b[1;34m(self, mapper, na_action, convert)\u001b[0m\n\u001b[0;32m    916\u001b[0m arr \u001b[38;5;241m=\u001b[39m \u001b[38;5;28mself\u001b[39m\u001b[38;5;241m.\u001b[39m_values\n\u001b[0;32m    918\u001b[0m \u001b[38;5;28;01mif\u001b[39;00m \u001b[38;5;28misinstance\u001b[39m(arr, ExtensionArray):\n\u001b[1;32m--> 919\u001b[0m     \u001b[38;5;28;01mreturn\u001b[39;00m arr\u001b[38;5;241m.\u001b[39mmap(mapper, na_action\u001b[38;5;241m=\u001b[39mna_action)\n\u001b[0;32m    921\u001b[0m \u001b[38;5;28;01mreturn\u001b[39;00m algorithms\u001b[38;5;241m.\u001b[39mmap_array(arr, mapper, na_action\u001b[38;5;241m=\u001b[39mna_action, convert\u001b[38;5;241m=\u001b[39mconvert)\n",
      "File \u001b[1;32m~\\new_anconda\\Lib\\site-packages\\pandas\\core\\arrays\\categorical.py:1557\u001b[0m, in \u001b[0;36mCategorical.map\u001b[1;34m(self, mapper, na_action)\u001b[0m\n\u001b[0;32m   1553\u001b[0m     na_action \u001b[38;5;241m=\u001b[39m \u001b[38;5;124m\"\u001b[39m\u001b[38;5;124mignore\u001b[39m\u001b[38;5;124m\"\u001b[39m\n\u001b[0;32m   1555\u001b[0m \u001b[38;5;28;01massert\u001b[39;00m \u001b[38;5;28mcallable\u001b[39m(mapper) \u001b[38;5;129;01mor\u001b[39;00m is_dict_like(mapper)\n\u001b[1;32m-> 1557\u001b[0m new_categories \u001b[38;5;241m=\u001b[39m \u001b[38;5;28mself\u001b[39m\u001b[38;5;241m.\u001b[39mcategories\u001b[38;5;241m.\u001b[39mmap(mapper)\n\u001b[0;32m   1559\u001b[0m has_nans \u001b[38;5;241m=\u001b[39m np\u001b[38;5;241m.\u001b[39many(\u001b[38;5;28mself\u001b[39m\u001b[38;5;241m.\u001b[39m_codes \u001b[38;5;241m==\u001b[39m \u001b[38;5;241m-\u001b[39m\u001b[38;5;241m1\u001b[39m)\n\u001b[0;32m   1561\u001b[0m na_val \u001b[38;5;241m=\u001b[39m np\u001b[38;5;241m.\u001b[39mnan\n",
      "File \u001b[1;32m~\\new_anconda\\Lib\\site-packages\\pandas\\core\\indexes\\base.py:6491\u001b[0m, in \u001b[0;36mIndex.map\u001b[1;34m(self, mapper, na_action)\u001b[0m\n\u001b[0;32m   6455\u001b[0m \u001b[38;5;250m\u001b[39m\u001b[38;5;124;03m\"\"\"\u001b[39;00m\n\u001b[0;32m   6456\u001b[0m \u001b[38;5;124;03mMap values using an input mapping or function.\u001b[39;00m\n\u001b[0;32m   6457\u001b[0m \n\u001b[1;32m   (...)\u001b[0m\n\u001b[0;32m   6487\u001b[0m \u001b[38;5;124;03mIndex(['A', 'B', 'C'], dtype='object')\u001b[39;00m\n\u001b[0;32m   6488\u001b[0m \u001b[38;5;124;03m\"\"\"\u001b[39;00m\n\u001b[0;32m   6489\u001b[0m \u001b[38;5;28;01mfrom\u001b[39;00m \u001b[38;5;21;01mpandas\u001b[39;00m\u001b[38;5;21;01m.\u001b[39;00m\u001b[38;5;21;01mcore\u001b[39;00m\u001b[38;5;21;01m.\u001b[39;00m\u001b[38;5;21;01mindexes\u001b[39;00m\u001b[38;5;21;01m.\u001b[39;00m\u001b[38;5;21;01mmulti\u001b[39;00m \u001b[38;5;28;01mimport\u001b[39;00m MultiIndex\n\u001b[1;32m-> 6491\u001b[0m new_values \u001b[38;5;241m=\u001b[39m \u001b[38;5;28mself\u001b[39m\u001b[38;5;241m.\u001b[39m_map_values(mapper, na_action\u001b[38;5;241m=\u001b[39mna_action)\n\u001b[0;32m   6493\u001b[0m \u001b[38;5;66;03m# we can return a MultiIndex\u001b[39;00m\n\u001b[0;32m   6494\u001b[0m \u001b[38;5;28;01mif\u001b[39;00m new_values\u001b[38;5;241m.\u001b[39msize \u001b[38;5;129;01mand\u001b[39;00m \u001b[38;5;28misinstance\u001b[39m(new_values[\u001b[38;5;241m0\u001b[39m], \u001b[38;5;28mtuple\u001b[39m):\n",
      "File \u001b[1;32m~\\new_anconda\\Lib\\site-packages\\pandas\\core\\base.py:921\u001b[0m, in \u001b[0;36mIndexOpsMixin._map_values\u001b[1;34m(self, mapper, na_action, convert)\u001b[0m\n\u001b[0;32m    918\u001b[0m \u001b[38;5;28;01mif\u001b[39;00m \u001b[38;5;28misinstance\u001b[39m(arr, ExtensionArray):\n\u001b[0;32m    919\u001b[0m     \u001b[38;5;28;01mreturn\u001b[39;00m arr\u001b[38;5;241m.\u001b[39mmap(mapper, na_action\u001b[38;5;241m=\u001b[39mna_action)\n\u001b[1;32m--> 921\u001b[0m \u001b[38;5;28;01mreturn\u001b[39;00m algorithms\u001b[38;5;241m.\u001b[39mmap_array(arr, mapper, na_action\u001b[38;5;241m=\u001b[39mna_action, convert\u001b[38;5;241m=\u001b[39mconvert)\n",
      "File \u001b[1;32m~\\new_anconda\\Lib\\site-packages\\pandas\\core\\algorithms.py:1743\u001b[0m, in \u001b[0;36mmap_array\u001b[1;34m(arr, mapper, na_action, convert)\u001b[0m\n\u001b[0;32m   1741\u001b[0m values \u001b[38;5;241m=\u001b[39m arr\u001b[38;5;241m.\u001b[39mastype(\u001b[38;5;28mobject\u001b[39m, copy\u001b[38;5;241m=\u001b[39m\u001b[38;5;28;01mFalse\u001b[39;00m)\n\u001b[0;32m   1742\u001b[0m \u001b[38;5;28;01mif\u001b[39;00m na_action \u001b[38;5;129;01mis\u001b[39;00m \u001b[38;5;28;01mNone\u001b[39;00m:\n\u001b[1;32m-> 1743\u001b[0m     \u001b[38;5;28;01mreturn\u001b[39;00m lib\u001b[38;5;241m.\u001b[39mmap_infer(values, mapper, convert\u001b[38;5;241m=\u001b[39mconvert)\n\u001b[0;32m   1744\u001b[0m \u001b[38;5;28;01melse\u001b[39;00m:\n\u001b[0;32m   1745\u001b[0m     \u001b[38;5;28;01mreturn\u001b[39;00m lib\u001b[38;5;241m.\u001b[39mmap_infer_mask(\n\u001b[0;32m   1746\u001b[0m         values, mapper, mask\u001b[38;5;241m=\u001b[39misna(values)\u001b[38;5;241m.\u001b[39mview(np\u001b[38;5;241m.\u001b[39muint8), convert\u001b[38;5;241m=\u001b[39mconvert\n\u001b[0;32m   1747\u001b[0m     )\n",
      "File \u001b[1;32mlib.pyx:2972\u001b[0m, in \u001b[0;36mpandas._libs.lib.map_infer\u001b[1;34m()\u001b[0m\n",
      "Cell \u001b[1;32mIn[23], line 13\u001b[0m, in \u001b[0;36mfast_spell_cor\u001b[1;34m(text)\u001b[0m\n\u001b[0;32m     10\u001b[0m misspelled \u001b[38;5;241m=\u001b[39m spell\u001b[38;5;241m.\u001b[39munknown(words)  \u001b[38;5;66;03m# Identify misspelled words\u001b[39;00m\n\u001b[0;32m     12\u001b[0m corrected_words \u001b[38;5;241m=\u001b[39m [spell\u001b[38;5;241m.\u001b[39mcorrection(word) \u001b[38;5;28;01mif\u001b[39;00m word \u001b[38;5;129;01min\u001b[39;00m misspelled \u001b[38;5;28;01melse\u001b[39;00m word \u001b[38;5;28;01mfor\u001b[39;00m word \u001b[38;5;129;01min\u001b[39;00m words]\n\u001b[1;32m---> 13\u001b[0m \u001b[38;5;28;01mreturn\u001b[39;00m \u001b[38;5;124m\"\u001b[39m\u001b[38;5;124m \u001b[39m\u001b[38;5;124m\"\u001b[39m\u001b[38;5;241m.\u001b[39mjoin(corrected_words)\n",
      "\u001b[1;31mTypeError\u001b[0m: sequence item 59: expected str instance, NoneType found"
     ]
    }
   ],
   "source": [
    "!pip install pyspellchecker -q\n",
    "from spellchecker import SpellChecker\n",
    "\n",
    "# Initialize SpellChecker\n",
    "spell = SpellChecker()\n",
    "\n",
    "# Function to correct spelling using pyspellchecker\n",
    "def fast_spell_cor(text):\n",
    "    words = text.split()\n",
    "    misspelled = spell.unknown(words)  # Identify misspelled words\n",
    "\n",
    "    corrected_words = [spell.correction(word) if word in misspelled else word for word in words]\n",
    "    return \" \".join(corrected_words)\n",
    "\n",
    "# Apply the function to the DataFrame without using slow apply\n",
    "data['Review Text'] = data['Review Text'].astype('category')\n",
    "data['Review Text'] = data['Review Text'].apply(fast_spell_cor)\n"
   ]
  },
  {
   "cell_type": "markdown",
   "id": "9cfd6d30-3e46-488e-bec6-78480c04fdd0",
   "metadata": {},
   "source": [
    "##### Removing of Stop Words"
   ]
  },
  {
   "cell_type": "code",
   "execution_count": null,
   "id": "3abf0650-1b1f-44f4-80ae-79ceb6bf41b7",
   "metadata": {},
   "outputs": [],
   "source": [
    "!pip install nltk -q"
   ]
  },
  {
   "cell_type": "code",
   "execution_count": 19,
   "id": "b9ba3529-881a-468c-9b70-0b990ff133cd",
   "metadata": {},
   "outputs": [],
   "source": [
    "from nltk.corpus import stopwords"
   ]
  },
  {
   "cell_type": "code",
   "execution_count": 20,
   "id": "10d784fa-6a84-4a43-b35e-3cea453cb16f",
   "metadata": {},
   "outputs": [
    {
     "name": "stderr",
     "output_type": "stream",
     "text": [
      "[nltk_data] Downloading package stopwords to\n",
      "[nltk_data]     C:\\Users\\mdbab\\AppData\\Roaming\\nltk_data...\n",
      "[nltk_data]   Package stopwords is already up-to-date!\n"
     ]
    },
    {
     "data": {
      "text/plain": [
       "True"
      ]
     },
     "execution_count": 20,
     "metadata": {},
     "output_type": "execute_result"
    }
   ],
   "source": [
    "import nltk\n",
    "nltk.download('stopwords')"
   ]
  },
  {
   "cell_type": "code",
   "execution_count": 26,
   "id": "8a1b31f9-959b-41cb-a21c-4877ada0c62a",
   "metadata": {},
   "outputs": [
    {
     "name": "stdout",
     "output_type": "stream",
     "text": [
      "['i', 'me', 'my', 'myself', 'we', 'our', 'ours', 'ourselves', 'you', \"you're\", \"you've\", \"you'll\", \"you'd\", 'your', 'yours', 'yourself', 'yourselves', 'he', 'him', 'his', 'himself', 'she', \"she's\", 'her', 'hers', 'herself', 'it', \"it's\", 'its', 'itself', 'they', 'them', 'their', 'theirs', 'themselves', 'what', 'which', 'who', 'whom', 'this', 'that', \"that'll\", 'these', 'those', 'am', 'is', 'are', 'was', 'were', 'be', 'been', 'being', 'have', 'has', 'had', 'having', 'do', 'does', 'did', 'doing', 'a', 'an', 'the', 'and', 'but', 'if', 'or', 'because', 'as', 'until', 'while', 'of', 'at', 'by', 'for', 'with', 'about', 'against', 'between', 'into', 'through', 'during', 'before', 'after', 'above', 'below', 'to', 'from', 'up', 'down', 'in', 'out', 'on', 'off', 'over', 'under', 'again', 'further', 'then', 'once', 'here', 'there', 'when', 'where', 'why', 'how', 'all', 'any', 'both', 'each', 'few', 'more', 'most', 'other', 'some', 'such', 'no', 'nor', 'not', 'only', 'own', 'same', 'so', 'than', 'too', 'very', 's', 't', 'can', 'will', 'just', 'don', \"don't\", 'should', \"should've\", 'now', 'd', 'll', 'm', 'o', 're', 've', 'y', 'ain', 'aren', \"aren't\", 'couldn', \"couldn't\", 'didn', \"didn't\", 'doesn', \"doesn't\", 'hadn', \"hadn't\", 'hasn', \"hasn't\", 'haven', \"haven't\", 'isn', \"isn't\", 'ma', 'mightn', \"mightn't\", 'mustn', \"mustn't\", 'needn', \"needn't\", 'shan', \"shan't\", 'shouldn', \"shouldn't\", 'wasn', \"wasn't\", 'weren', \"weren't\", 'won', \"won't\", 'wouldn', \"wouldn't\"]\n"
     ]
    }
   ],
   "source": [
    "Stop_words = stopwords.words('english')\n",
    "print(Stop_words)"
   ]
  },
  {
   "cell_type": "code",
   "execution_count": 40,
   "id": "002865f8-a3be-4d6a-ab7e-5018cac42fd9",
   "metadata": {},
   "outputs": [
    {
     "name": "stdout",
     "output_type": "stream",
     "text": [
      "echoes ashenfall.the village ashenfall lay shrouded mist, nestled deep within mountains, once-thriving lands gray brittle, like bones long-forgotten giant. long eira could remember, mist wrapped around village like snake tightening grip, never lifting, never changing. sun something could dream about—an abstract warmth touched lands seemed distant stars.eira’s father, last village chief, disappeared child, venturing mist find source curse plagued ashenfall. one seen since. now, village ruled council elders, elder maelis leader—a man harsh words colder eyes, discouraged talk curse forbade anyone leaving village.but eira couldn’t let go. every night, dream haunted her—a voice, soft insistent, calling night’s eye, jagged peak loomed village like silent sentinel. dreams, mist parted climbed, revealing crystal tower light, source power hidden deep within mountain.as days passed, dreams became vivid, urgent. eira knew something. could feel bones—a pull, like tug distant tide. wasn’t alone.her childhood friend, lorin, returned ashenfall years study distant city galdorn. lorin always scholar, drawn mysteries world, came back news—ancient texts maps hinted forgotten kingdom buried beneath ashenfall, artifact known heart gales. according lorin, heart key breaking curse.“i’ve studied everything could find,” lorin said, voice low sat eira’s small home, fire flickering them. “the heart gales powerful artifact, used ancient kingdom velkora control winds weather. kingdom fell, heart lost. believe it’s somewhere beneath ashenfall, ruins velkora.”eira nodded, mind racing. “the night’s eye. there. that’s father went.”lorin’s brow furrowed. “the elders won’t let us go. maelis forbidden anyone entering mists.”eira’s eyes darkened. “i don’t care. there’s chance lift curse, i’m going.”the next morning, prepared leave, confronted elder maelis himself, cloak billowing wind like mist surrounded them.“you’re making mistake,” said, voice cold authoritative. “the night’s eye dangerous place, filled creatures born curse. you’ll bring suffering village.”eira’s heart pounded chest, stood ground. “the village already suffering. father could find way lift curse, i.”maelis’s eyes narrowed, said nothing more, turning disappearing mist, leaving eira lorin fate.they set dawn, mist curling around feet like smoke. forest surrounded ashenfall thick ancient, trees gnarled twisted, branches reaching like fingers long-dead creature. walked, mist grew heavier, world around seemed blur, trees fading ghostly shapes.after hours walking, encountered first trial—the nightshades. creatures born curse, shadowy forms lurked mist, eyes glowing like embers. eira’s breath caught throat nightshades circled them, growls low menacing.just one creatures lunged her, something inside eira stirred. warmth spread chest, burst golden light shot hands, pushing creature back. nightshade recoiled, hissing, others quickly followed, retreating mist.lorin stared shock. “what that?”“i… don’t know,” eira replied, voice shaking. “it just… happened.”they continued journey, forest growing darker oppressive step. wasn’t long encountered third traveler—a woman sharp eyes bow slung shoulder. introduced sylva, ranger living forest years, guiding lost travelers mists.“i’ve watching you,” sylva said, voice quiet firm. “you’re heading night’s eye, aren’t you?”eira nodded. “we’re looking ruins velkora.”sylva’s eyes narrowed. “you’re first. many tried, none returned. you’re determined, i’ll help you. path treacherous, nightshades least worries.”with sylva’s help, made way forest, navigating hidden dangers lurked mist. last, reached ruins velkora, vast underground city hidden beneath mountain. city maze crumbling stone ancient carvings, streets lined statues forgotten kings queens. center city stood crystal spire, towering structure light glass pulsed faint, eerie glow.lorin’s eyes lit excitement. “this it. heart gales must here.”but approached spire, sylva stepped forward, face hard. “i’m sorry,” said, drawing bow. “but can’t let this.”eira’s heart raced. “what talking about?”sylva’s eyes flickered uncertainty, voice firm. “elder maelis sent me. knew would come here. believes curse necessary evil, safeguard something far worse. break curse, might unleash something even dangerous.”eira’s mind reeled. “maelis wrong. curse killing village. stop it.”sylva hesitated, grip bow tightening. “i don’t want fight you, can’t let go further.”before eira could respond, nightshades descended upon them, glowing eyes cutting mist. battle followed fierce chaotic, creatures darting shadows, claws slashing air. eira’s power flared again, golden light pushed creatures back, wasn’t enough.in midst chaos, sylva lowered bow. “i wrong,” muttered, voice barely audible. “maelis lying us.”together, fought nightshades, combined strength enough drive creatures back shadows. battle over, sylva turned eira, expression filled regret.“i’m sorry,” said quietly. “i didn’t know.”eira nodded, heart still pounding. “we don’t time apologies. need find heart.”with sylva’s help, made way top crystal spire, heart gales lay hidden chamber light glass. artifact glowing crystal, pulsing soft, rhythmic hum, alive.eira stepped forward, hands trembling reached heart. soon fingers touched crystal, surge energy shot her, world around seemed blur. could feel curse, dark, oppressive force wrapped around ashenfall, feeding village’s life.with deep breath, eira focused power, drawing strength lineage, channeled heart. crystal flared light, curse shattered like glass, mist lifting sun broke clouds first time centuries.ashenfall free.the villagers rejoiced sun warmed faces, land began heal. eira hailed hero, chosen lead village new era prosperity. lorin returned studies, eager uncover lost knowledge velkora, sylva stayed behind, bow symbol vow protect village future threats.but eira stood edge village, watching last mist fade horizon, couldn’t shake feeling something else awoken—something ancient dangerous, hidden deep within mountains.the curse gone, echoes ashenfall begun.\n"
     ]
    },
    {
     "data": {
      "text/html": [
       "<div>\n",
       "<style scoped>\n",
       "    .dataframe tbody tr th:only-of-type {\n",
       "        vertical-align: middle;\n",
       "    }\n",
       "\n",
       "    .dataframe tbody tr th {\n",
       "        vertical-align: top;\n",
       "    }\n",
       "\n",
       "    .dataframe thead th {\n",
       "        text-align: right;\n",
       "    }\n",
       "</style>\n",
       "<table border=\"1\" class=\"dataframe\">\n",
       "  <thead>\n",
       "    <tr style=\"text-align: right;\">\n",
       "      <th></th>\n",
       "      <th>Unnamed: 0</th>\n",
       "      <th>Clothing ID</th>\n",
       "      <th>Age</th>\n",
       "      <th>Title</th>\n",
       "      <th>Review Text</th>\n",
       "      <th>Rating</th>\n",
       "      <th>Recommended IND</th>\n",
       "      <th>Positive Feedback Count</th>\n",
       "      <th>Division Name</th>\n",
       "      <th>Department Name</th>\n",
       "      <th>Class Name</th>\n",
       "    </tr>\n",
       "  </thead>\n",
       "  <tbody>\n",
       "    <tr>\n",
       "      <th>0</th>\n",
       "      <td>0</td>\n",
       "      <td>767</td>\n",
       "      <td>33</td>\n",
       "      <td>NaN</td>\n",
       "      <td>absolutely wonderful silky sexy comfortable</td>\n",
       "      <td>4</td>\n",
       "      <td>1</td>\n",
       "      <td>0</td>\n",
       "      <td>Initmates</td>\n",
       "      <td>Intimate</td>\n",
       "      <td>Intimates</td>\n",
       "    </tr>\n",
       "    <tr>\n",
       "      <th>1</th>\n",
       "      <td>1</td>\n",
       "      <td>1080</td>\n",
       "      <td>34</td>\n",
       "      <td>NaN</td>\n",
       "      <td>love dress sooo pretty happened find store im ...</td>\n",
       "      <td>5</td>\n",
       "      <td>1</td>\n",
       "      <td>4</td>\n",
       "      <td>General</td>\n",
       "      <td>Dresses</td>\n",
       "      <td>Dresses</td>\n",
       "    </tr>\n",
       "    <tr>\n",
       "      <th>2</th>\n",
       "      <td>2</td>\n",
       "      <td>1077</td>\n",
       "      <td>60</td>\n",
       "      <td>Some major design flaws</td>\n",
       "      <td>high hopes dress really wanted work initially ...</td>\n",
       "      <td>3</td>\n",
       "      <td>0</td>\n",
       "      <td>0</td>\n",
       "      <td>General</td>\n",
       "      <td>Dresses</td>\n",
       "      <td>Dresses</td>\n",
       "    </tr>\n",
       "    <tr>\n",
       "      <th>3</th>\n",
       "      <td>3</td>\n",
       "      <td>1049</td>\n",
       "      <td>50</td>\n",
       "      <td>My favorite buy!</td>\n",
       "      <td>love love love jumpsuit fun flirty fabulous ev...</td>\n",
       "      <td>5</td>\n",
       "      <td>1</td>\n",
       "      <td>0</td>\n",
       "      <td>General Petite</td>\n",
       "      <td>Bottoms</td>\n",
       "      <td>Pants</td>\n",
       "    </tr>\n",
       "    <tr>\n",
       "      <th>4</th>\n",
       "      <td>4</td>\n",
       "      <td>847</td>\n",
       "      <td>47</td>\n",
       "      <td>Flattering shirt</td>\n",
       "      <td>shirt flattering due adjustable front tie perf...</td>\n",
       "      <td>5</td>\n",
       "      <td>1</td>\n",
       "      <td>6</td>\n",
       "      <td>General</td>\n",
       "      <td>Tops</td>\n",
       "      <td>Blouses</td>\n",
       "    </tr>\n",
       "  </tbody>\n",
       "</table>\n",
       "</div>"
      ],
      "text/plain": [
       "   Unnamed: 0  Clothing ID  Age                    Title  \\\n",
       "0           0          767   33                      NaN   \n",
       "1           1         1080   34                      NaN   \n",
       "2           2         1077   60  Some major design flaws   \n",
       "3           3         1049   50         My favorite buy!   \n",
       "4           4          847   47         Flattering shirt   \n",
       "\n",
       "                                         Review Text  Rating  Recommended IND  \\\n",
       "0        absolutely wonderful silky sexy comfortable       4                1   \n",
       "1  love dress sooo pretty happened find store im ...       5                1   \n",
       "2  high hopes dress really wanted work initially ...       3                0   \n",
       "3  love love love jumpsuit fun flirty fabulous ev...       5                1   \n",
       "4  shirt flattering due adjustable front tie perf...       5                1   \n",
       "\n",
       "   Positive Feedback Count   Division Name Department Name Class Name  \n",
       "0                        0       Initmates        Intimate  Intimates  \n",
       "1                        4         General         Dresses    Dresses  \n",
       "2                        0         General         Dresses    Dresses  \n",
       "3                        0  General Petite         Bottoms      Pants  \n",
       "4                        6         General            Tops    Blouses  "
      ]
     },
     "execution_count": 40,
     "metadata": {},
     "output_type": "execute_result"
    }
   ],
   "source": [
    "stop_words = set(stopwords.words('english'))\n",
    "def remove_stopwords(text):\n",
    "    return \" \".join([word for word in text.split() if word not in stop_words])\n",
    "\n",
    "data['Review Text'] = data['Review Text'].astype('category')\n",
    "data['Review Text'] = data['Review Text'].apply(remove_stopwords)\n",
    "data.head()"
   ]
  },
  {
   "cell_type": "markdown",
   "id": "12e0add3-f0a6-42b9-839f-ac28b429e5ac",
   "metadata": {},
   "source": [
    "##### Handling Emojis"
   ]
  },
  {
   "cell_type": "code",
   "execution_count": 28,
   "id": "fa67d417-5435-4491-bb53-3e7a97416d4a",
   "metadata": {},
   "outputs": [
    {
     "name": "stdout",
     "output_type": "stream",
     "text": [
      "Requirement already satisfied: emoji in c:\\users\\mdbab\\new_anconda\\lib\\site-packages (2.12.1)\n",
      "Requirement already satisfied: typing-extensions>=4.7.0 in c:\\users\\mdbab\\new_anconda\\lib\\site-packages (from emoji) (4.9.0)\n"
     ]
    }
   ],
   "source": [
    "!pip install emoji\n",
    "import emoji"
   ]
  },
  {
   "cell_type": "code",
   "execution_count": 29,
   "id": "ad27ce82-1b21-4b7b-8388-3e72697153c6",
   "metadata": {},
   "outputs": [
    {
     "name": "stdout",
     "output_type": "stream",
     "text": [
      "try these: :syringe::gem_stone: or :boy_light_skin_tone::glasses::high_voltage:\n"
     ]
    }
   ],
   "source": [
    "text = \"try these: 💉💎 or 👦🏻👓⚡\"\n",
    "print(emoji.demojize(text))\n",
    "\n",
    "def remove_emoji(text):\n",
    "    return emoji.demojize(text)"
   ]
  },
  {
   "cell_type": "code",
   "execution_count": 51,
   "id": "235bec5c-e2ca-4f5a-931b-638fcbcc14d1",
   "metadata": {},
   "outputs": [
    {
     "data": {
      "text/html": [
       "<div>\n",
       "<style scoped>\n",
       "    .dataframe tbody tr th:only-of-type {\n",
       "        vertical-align: middle;\n",
       "    }\n",
       "\n",
       "    .dataframe tbody tr th {\n",
       "        vertical-align: top;\n",
       "    }\n",
       "\n",
       "    .dataframe thead th {\n",
       "        text-align: right;\n",
       "    }\n",
       "</style>\n",
       "<table border=\"1\" class=\"dataframe\">\n",
       "  <thead>\n",
       "    <tr style=\"text-align: right;\">\n",
       "      <th></th>\n",
       "      <th>Unnamed: 0</th>\n",
       "      <th>Clothing ID</th>\n",
       "      <th>Age</th>\n",
       "      <th>Title</th>\n",
       "      <th>Review Text</th>\n",
       "      <th>Rating</th>\n",
       "      <th>Recommended IND</th>\n",
       "      <th>Positive Feedback Count</th>\n",
       "      <th>Division Name</th>\n",
       "      <th>Department Name</th>\n",
       "      <th>Class Name</th>\n",
       "    </tr>\n",
       "  </thead>\n",
       "  <tbody>\n",
       "    <tr>\n",
       "      <th>0</th>\n",
       "      <td>0</td>\n",
       "      <td>767</td>\n",
       "      <td>33</td>\n",
       "      <td>NaN</td>\n",
       "      <td>absolutely wonderful silky sexy comfortable</td>\n",
       "      <td>4</td>\n",
       "      <td>1</td>\n",
       "      <td>0</td>\n",
       "      <td>Initmates</td>\n",
       "      <td>Intimate</td>\n",
       "      <td>Intimates</td>\n",
       "    </tr>\n",
       "    <tr>\n",
       "      <th>1</th>\n",
       "      <td>1</td>\n",
       "      <td>1080</td>\n",
       "      <td>34</td>\n",
       "      <td>NaN</td>\n",
       "      <td>love dress sooo pretty happened find store im ...</td>\n",
       "      <td>5</td>\n",
       "      <td>1</td>\n",
       "      <td>4</td>\n",
       "      <td>General</td>\n",
       "      <td>Dresses</td>\n",
       "      <td>Dresses</td>\n",
       "    </tr>\n",
       "    <tr>\n",
       "      <th>2</th>\n",
       "      <td>2</td>\n",
       "      <td>1077</td>\n",
       "      <td>60</td>\n",
       "      <td>Some major design flaws</td>\n",
       "      <td>high hopes dress really wanted work initially ...</td>\n",
       "      <td>3</td>\n",
       "      <td>0</td>\n",
       "      <td>0</td>\n",
       "      <td>General</td>\n",
       "      <td>Dresses</td>\n",
       "      <td>Dresses</td>\n",
       "    </tr>\n",
       "    <tr>\n",
       "      <th>3</th>\n",
       "      <td>3</td>\n",
       "      <td>1049</td>\n",
       "      <td>50</td>\n",
       "      <td>My favorite buy!</td>\n",
       "      <td>love love love jumpsuit fun flirty fabulous ev...</td>\n",
       "      <td>5</td>\n",
       "      <td>1</td>\n",
       "      <td>0</td>\n",
       "      <td>General Petite</td>\n",
       "      <td>Bottoms</td>\n",
       "      <td>Pants</td>\n",
       "    </tr>\n",
       "    <tr>\n",
       "      <th>4</th>\n",
       "      <td>4</td>\n",
       "      <td>847</td>\n",
       "      <td>47</td>\n",
       "      <td>Flattering shirt</td>\n",
       "      <td>shirt flattering due adjustable front tie perf...</td>\n",
       "      <td>5</td>\n",
       "      <td>1</td>\n",
       "      <td>6</td>\n",
       "      <td>General</td>\n",
       "      <td>Tops</td>\n",
       "      <td>Blouses</td>\n",
       "    </tr>\n",
       "  </tbody>\n",
       "</table>\n",
       "</div>"
      ],
      "text/plain": [
       "   Unnamed: 0  Clothing ID  Age                    Title  \\\n",
       "0           0          767   33                      NaN   \n",
       "1           1         1080   34                      NaN   \n",
       "2           2         1077   60  Some major design flaws   \n",
       "3           3         1049   50         My favorite buy!   \n",
       "4           4          847   47         Flattering shirt   \n",
       "\n",
       "                                         Review Text  Rating  Recommended IND  \\\n",
       "0        absolutely wonderful silky sexy comfortable       4                1   \n",
       "1  love dress sooo pretty happened find store im ...       5                1   \n",
       "2  high hopes dress really wanted work initially ...       3                0   \n",
       "3  love love love jumpsuit fun flirty fabulous ev...       5                1   \n",
       "4  shirt flattering due adjustable front tie perf...       5                1   \n",
       "\n",
       "   Positive Feedback Count   Division Name Department Name Class Name  \n",
       "0                        0       Initmates        Intimate  Intimates  \n",
       "1                        4         General         Dresses    Dresses  \n",
       "2                        0         General         Dresses    Dresses  \n",
       "3                        0  General Petite         Bottoms      Pants  \n",
       "4                        6         General            Tops    Blouses  "
      ]
     },
     "execution_count": 51,
     "metadata": {},
     "output_type": "execute_result"
    }
   ],
   "source": [
    "data['Review Text'] = data['Review Text'].astype('category')\n",
    "data['Review Text'] = data['Review Text'].apply(remove_emoji)\n",
    "data.head()"
   ]
  },
  {
   "cell_type": "markdown",
   "id": "10e8004d-074a-48f5-8997-1da3385e705a",
   "metadata": {},
   "source": [
    "##### Tokenization"
   ]
  },
  {
   "cell_type": "markdown",
   "id": "35a58628-8cba-4235-bc03-67765aaf1aab",
   "metadata": {},
   "source": [
    "Can be done by various libraries like NLTK and SPACY"
   ]
  },
  {
   "cell_type": "code",
   "execution_count": 22,
   "id": "94f8b0dd-01cb-4d24-97c7-e25a4a52b285",
   "metadata": {},
   "outputs": [],
   "source": [
    "# From NLTK\n",
    "from nltk.tokenize import word_tokenize,sent_tokenize"
   ]
  },
  {
   "cell_type": "code",
   "execution_count": 23,
   "id": "dec833df-bf55-4708-80a6-0e9f5c56042e",
   "metadata": {},
   "outputs": [
    {
     "data": {
      "text/plain": [
       "['Mr.',\n",
       " 'Fedrick',\n",
       " 'how',\n",
       " 'was',\n",
       " 'your',\n",
       " '5km',\n",
       " 'run',\n",
       " '.',\n",
       " 'he',\n",
       " 'reaplied',\n",
       " 'amazing',\n",
       " '!',\n",
       " 'but',\n",
       " 'it',\n",
       " 'costed',\n",
       " 'me',\n",
       " '$',\n",
       " '20']"
      ]
     },
     "execution_count": 23,
     "metadata": {},
     "output_type": "execute_result"
    }
   ],
   "source": [
    "text = 'Mr. Fedrick how was your 5km run. he reaplied amazing! but it costed me $20'\n",
    "word_tokenize(text)"
   ]
  },
  {
   "cell_type": "code",
   "execution_count": 24,
   "id": "4cb9ab69-0619-44e9-b4ca-905ec494f9d1",
   "metadata": {},
   "outputs": [],
   "source": [
    "!pip install spacy -q\n",
    "import spacy"
   ]
  },
  {
   "cell_type": "code",
   "execution_count": 25,
   "id": "476ee73c-f782-4681-9be6-4881c81a4387",
   "metadata": {
    "scrolled": true
   },
   "outputs": [
    {
     "name": "stdout",
     "output_type": "stream",
     "text": [
      "Collecting en-core-web-sm==3.7.1\n",
      "  Downloading https://github.com/explosion/spacy-models/releases/download/en_core_web_sm-3.7.1/en_core_web_sm-3.7.1-py3-none-any.whl (12.8 MB)\n",
      "     ---------------------------------------- 0.0/12.8 MB ? eta -:--:--\n",
      "     ---------------------------------------- 0.0/12.8 MB ? eta -:--:--\n",
      "     ---------------------------------------- 0.0/12.8 MB ? eta -:--:--\n",
      "     ---------------------------------------- 0.0/12.8 MB ? eta -:--:--\n",
      "     ---------------------------------------- 0.0/12.8 MB ? eta -:--:--\n",
      "     --------------------------------------- 0.0/12.8 MB 131.3 kB/s eta 0:01:38\n",
      "     --------------------------------------- 0.0/12.8 MB 131.3 kB/s eta 0:01:38\n",
      "     --------------------------------------- 0.0/12.8 MB 131.3 kB/s eta 0:01:38\n",
      "     --------------------------------------- 0.0/12.8 MB 131.3 kB/s eta 0:01:38\n",
      "     --------------------------------------- 0.0/12.8 MB 131.3 kB/s eta 0:01:38\n",
      "     --------------------------------------- 0.0/12.8 MB 131.3 kB/s eta 0:01:38\n",
      "     --------------------------------------- 0.0/12.8 MB 131.3 kB/s eta 0:01:38\n",
      "     --------------------------------------- 0.0/12.8 MB 131.3 kB/s eta 0:01:38\n",
      "     --------------------------------------- 0.0/12.8 MB 131.3 kB/s eta 0:01:38\n",
      "     --------------------------------------- 0.0/12.8 MB 131.3 kB/s eta 0:01:38\n",
      "     --------------------------------------- 0.0/12.8 MB 131.3 kB/s eta 0:01:38\n",
      "     --------------------------------------- 0.0/12.8 MB 131.3 kB/s eta 0:01:38\n",
      "     --------------------------------------- 0.0/12.8 MB 131.3 kB/s eta 0:01:38\n",
      "     --------------------------------------- 0.0/12.8 MB 131.3 kB/s eta 0:01:38\n",
      "     --------------------------------------- 0.0/12.8 MB 131.3 kB/s eta 0:01:38\n",
      "     --------------------------------------- 0.0/12.8 MB 131.3 kB/s eta 0:01:38\n",
      "     --------------------------------------- 0.0/12.8 MB 131.3 kB/s eta 0:01:38\n",
      "     --------------------------------------- 0.0/12.8 MB 131.3 kB/s eta 0:01:38\n",
      "      -------------------------------------- 0.3/12.8 MB 299.1 kB/s eta 0:00:42\n",
      "      -------------------------------------- 0.3/12.8 MB 327.9 kB/s eta 0:00:39\n",
      "     - ------------------------------------- 0.4/12.8 MB 391.0 kB/s eta 0:00:32\n",
      "     - ------------------------------------- 0.4/12.8 MB 409.6 kB/s eta 0:00:31\n",
      "     - ------------------------------------- 0.5/12.8 MB 482.1 kB/s eta 0:00:26\n",
      "     - ------------------------------------- 0.6/12.8 MB 542.9 kB/s eta 0:00:23\n",
      "     -- ------------------------------------ 0.7/12.8 MB 601.8 kB/s eta 0:00:21\n",
      "     -- ------------------------------------ 0.8/12.8 MB 655.4 kB/s eta 0:00:19\n",
      "     -- ------------------------------------ 0.9/12.8 MB 746.8 kB/s eta 0:00:16\n",
      "     --- ----------------------------------- 1.0/12.8 MB 817.6 kB/s eta 0:00:15\n",
      "     --- ----------------------------------- 1.1/12.8 MB 876.4 kB/s eta 0:00:14\n",
      "     --- ----------------------------------- 1.2/12.8 MB 904.2 kB/s eta 0:00:13\n",
      "     ---- ---------------------------------- 1.4/12.8 MB 965.1 kB/s eta 0:00:12\n",
      "     ---- ----------------------------------- 1.5/12.8 MB 1.0 MB/s eta 0:00:12\n",
      "     ---- ----------------------------------- 1.5/12.8 MB 1.0 MB/s eta 0:00:12\n",
      "     ----- ---------------------------------- 1.6/12.8 MB 1.1 MB/s eta 0:00:11\n",
      "     ----- ---------------------------------- 1.8/12.8 MB 1.1 MB/s eta 0:00:10\n",
      "     ----- ---------------------------------- 1.9/12.8 MB 1.2 MB/s eta 0:00:10\n",
      "     ------ --------------------------------- 2.0/12.8 MB 1.2 MB/s eta 0:00:09\n",
      "     ------ --------------------------------- 2.1/12.8 MB 1.2 MB/s eta 0:00:09\n",
      "     ------ --------------------------------- 2.2/12.8 MB 1.2 MB/s eta 0:00:09\n",
      "     ------- -------------------------------- 2.3/12.8 MB 1.3 MB/s eta 0:00:09\n",
      "     ------- -------------------------------- 2.4/12.8 MB 1.3 MB/s eta 0:00:08\n",
      "     ------- -------------------------------- 2.5/12.8 MB 1.3 MB/s eta 0:00:08\n",
      "     -------- ------------------------------- 2.6/12.8 MB 1.4 MB/s eta 0:00:08\n",
      "     -------- ------------------------------- 2.6/12.8 MB 1.4 MB/s eta 0:00:08\n",
      "     -------- ------------------------------- 2.7/12.8 MB 1.4 MB/s eta 0:00:08\n",
      "     -------- ------------------------------- 2.8/12.8 MB 1.4 MB/s eta 0:00:08\n",
      "     --------- ------------------------------ 2.9/12.8 MB 1.4 MB/s eta 0:00:08\n",
      "     --------- ------------------------------ 3.0/12.8 MB 1.4 MB/s eta 0:00:08\n",
      "     --------- ------------------------------ 3.1/12.8 MB 1.4 MB/s eta 0:00:07\n",
      "     --------- ------------------------------ 3.2/12.8 MB 1.4 MB/s eta 0:00:07\n",
      "     ---------- ----------------------------- 3.3/12.8 MB 1.4 MB/s eta 0:00:07\n",
      "     ---------- ----------------------------- 3.4/12.8 MB 1.5 MB/s eta 0:00:07\n",
      "     ---------- ----------------------------- 3.5/12.8 MB 1.5 MB/s eta 0:00:07\n",
      "     ----------- ---------------------------- 3.6/12.8 MB 1.5 MB/s eta 0:00:07\n",
      "     ----------- ---------------------------- 3.7/12.8 MB 1.5 MB/s eta 0:00:07\n",
      "     ----------- ---------------------------- 3.8/12.8 MB 1.5 MB/s eta 0:00:06\n",
      "     ----------- ---------------------------- 3.8/12.8 MB 1.5 MB/s eta 0:00:06\n",
      "     ------------ --------------------------- 3.9/12.8 MB 1.5 MB/s eta 0:00:06\n",
      "     ------------ --------------------------- 4.0/12.8 MB 1.5 MB/s eta 0:00:06\n",
      "     ------------ --------------------------- 4.1/12.8 MB 1.6 MB/s eta 0:00:06\n",
      "     ------------- -------------------------- 4.2/12.8 MB 1.6 MB/s eta 0:00:06\n",
      "     ------------- -------------------------- 4.4/12.8 MB 1.6 MB/s eta 0:00:06\n",
      "     ------------- -------------------------- 4.5/12.8 MB 1.6 MB/s eta 0:00:06\n",
      "     -------------- ------------------------- 4.6/12.8 MB 1.6 MB/s eta 0:00:06\n",
      "     -------------- ------------------------- 4.7/12.8 MB 1.6 MB/s eta 0:00:05\n",
      "     --------------- ------------------------ 4.8/12.8 MB 1.7 MB/s eta 0:00:05\n",
      "     --------------- ------------------------ 4.9/12.8 MB 1.7 MB/s eta 0:00:05\n",
      "     --------------- ------------------------ 5.0/12.8 MB 1.7 MB/s eta 0:00:05\n",
      "     --------------- ------------------------ 5.0/12.8 MB 1.7 MB/s eta 0:00:05\n",
      "     ---------------- ----------------------- 5.2/12.8 MB 1.7 MB/s eta 0:00:05\n",
      "     ---------------- ----------------------- 5.2/12.8 MB 1.7 MB/s eta 0:00:05\n",
      "     ---------------- ----------------------- 5.4/12.8 MB 1.7 MB/s eta 0:00:05\n",
      "     ----------------- ---------------------- 5.5/12.8 MB 1.7 MB/s eta 0:00:05\n",
      "     ----------------- ---------------------- 5.6/12.8 MB 1.7 MB/s eta 0:00:05\n",
      "     ----------------- ---------------------- 5.7/12.8 MB 1.7 MB/s eta 0:00:05\n",
      "     ------------------ --------------------- 5.8/12.8 MB 1.7 MB/s eta 0:00:05\n",
      "     ------------------ --------------------- 5.9/12.8 MB 1.7 MB/s eta 0:00:05\n",
      "     ------------------ --------------------- 5.9/12.8 MB 1.7 MB/s eta 0:00:04\n",
      "     ------------------ --------------------- 6.0/12.8 MB 1.7 MB/s eta 0:00:04\n",
      "     ------------------ --------------------- 6.1/12.8 MB 1.7 MB/s eta 0:00:04\n",
      "     ------------------- -------------------- 6.2/12.8 MB 1.7 MB/s eta 0:00:04\n",
      "     ------------------- -------------------- 6.3/12.8 MB 1.7 MB/s eta 0:00:04\n",
      "     ------------------- -------------------- 6.3/12.8 MB 1.7 MB/s eta 0:00:04\n",
      "     -------------------- ------------------- 6.5/12.8 MB 1.8 MB/s eta 0:00:04\n",
      "     -------------------- ------------------- 6.6/12.8 MB 1.8 MB/s eta 0:00:04\n",
      "     -------------------- ------------------- 6.6/12.8 MB 1.7 MB/s eta 0:00:04\n",
      "     -------------------- ------------------- 6.7/12.8 MB 1.7 MB/s eta 0:00:04\n",
      "     -------------------- ------------------- 6.7/12.8 MB 1.7 MB/s eta 0:00:04\n",
      "     --------------------- ------------------ 6.7/12.8 MB 1.7 MB/s eta 0:00:04\n",
      "     --------------------- ------------------ 6.8/12.8 MB 1.7 MB/s eta 0:00:04\n",
      "     --------------------- ------------------ 6.8/12.8 MB 1.7 MB/s eta 0:00:04\n",
      "     --------------------- ------------------ 6.9/12.8 MB 1.7 MB/s eta 0:00:04\n",
      "     --------------------- ------------------ 7.0/12.8 MB 1.7 MB/s eta 0:00:04\n",
      "     ---------------------- ----------------- 7.1/12.8 MB 1.7 MB/s eta 0:00:04\n",
      "     ---------------------- ----------------- 7.2/12.8 MB 1.7 MB/s eta 0:00:04\n",
      "     ---------------------- ----------------- 7.3/12.8 MB 1.8 MB/s eta 0:00:04\n",
      "     ----------------------- ---------------- 7.4/12.8 MB 1.8 MB/s eta 0:00:04\n",
      "     ----------------------- ---------------- 7.5/12.8 MB 1.8 MB/s eta 0:00:04\n",
      "     ----------------------- ---------------- 7.6/12.8 MB 1.8 MB/s eta 0:00:03\n",
      "     ------------------------ --------------- 7.7/12.8 MB 1.8 MB/s eta 0:00:03\n",
      "     ------------------------ --------------- 7.8/12.8 MB 1.8 MB/s eta 0:00:03\n",
      "     ------------------------ --------------- 7.9/12.8 MB 1.8 MB/s eta 0:00:03\n",
      "     ------------------------- -------------- 8.0/12.8 MB 1.8 MB/s eta 0:00:03\n",
      "     ------------------------- -------------- 8.1/12.8 MB 1.8 MB/s eta 0:00:03\n",
      "     ------------------------- -------------- 8.2/12.8 MB 1.8 MB/s eta 0:00:03\n",
      "     ------------------------- -------------- 8.3/12.8 MB 1.8 MB/s eta 0:00:03\n",
      "     -------------------------- ------------- 8.4/12.8 MB 1.8 MB/s eta 0:00:03\n",
      "     -------------------------- ------------- 8.5/12.8 MB 1.8 MB/s eta 0:00:03\n",
      "     -------------------------- ------------- 8.6/12.8 MB 1.8 MB/s eta 0:00:03\n",
      "     --------------------------- ------------ 8.7/12.8 MB 1.8 MB/s eta 0:00:03\n",
      "     --------------------------- ------------ 8.8/12.8 MB 1.8 MB/s eta 0:00:03\n",
      "     ---------------------------- ----------- 9.0/12.8 MB 1.9 MB/s eta 0:00:03\n",
      "     ---------------------------- ----------- 9.1/12.8 MB 1.9 MB/s eta 0:00:03\n",
      "     ---------------------------- ----------- 9.1/12.8 MB 1.9 MB/s eta 0:00:02\n",
      "     ---------------------------- ----------- 9.2/12.8 MB 1.9 MB/s eta 0:00:02\n",
      "     ----------------------------- ---------- 9.3/12.8 MB 1.9 MB/s eta 0:00:02\n",
      "     ----------------------------- ---------- 9.5/12.8 MB 1.9 MB/s eta 0:00:02\n",
      "     ----------------------------- ---------- 9.6/12.8 MB 1.9 MB/s eta 0:00:02\n",
      "     ------------------------------ --------- 9.7/12.8 MB 1.9 MB/s eta 0:00:02\n",
      "     ------------------------------ --------- 9.8/12.8 MB 1.9 MB/s eta 0:00:02\n",
      "     ------------------------------ --------- 9.9/12.8 MB 1.9 MB/s eta 0:00:02\n",
      "     ------------------------------ --------- 9.9/12.8 MB 1.9 MB/s eta 0:00:02\n",
      "     ------------------------------- -------- 10.0/12.8 MB 1.9 MB/s eta 0:00:02\n",
      "     ------------------------------- -------- 10.2/12.8 MB 1.9 MB/s eta 0:00:02\n",
      "     -------------------------------- ------- 10.3/12.8 MB 2.3 MB/s eta 0:00:02\n",
      "     -------------------------------- ------- 10.4/12.8 MB 2.2 MB/s eta 0:00:02\n",
      "     -------------------------------- ------- 10.5/12.8 MB 2.2 MB/s eta 0:00:02\n",
      "     --------------------------------- ------ 10.6/12.8 MB 2.3 MB/s eta 0:00:01\n",
      "     --------------------------------- ------ 10.8/12.8 MB 2.3 MB/s eta 0:00:01\n",
      "     ---------------------------------- ----- 10.9/12.8 MB 2.3 MB/s eta 0:00:01\n",
      "     ---------------------------------- ----- 11.1/12.8 MB 2.3 MB/s eta 0:00:01\n",
      "     ---------------------------------- ----- 11.1/12.8 MB 2.3 MB/s eta 0:00:01\n",
      "     ---------------------------------- ----- 11.2/12.8 MB 2.3 MB/s eta 0:00:01\n",
      "     ----------------------------------- ---- 11.3/12.8 MB 2.3 MB/s eta 0:00:01\n",
      "     ----------------------------------- ---- 11.4/12.8 MB 2.3 MB/s eta 0:00:01\n",
      "     ----------------------------------- ---- 11.5/12.8 MB 2.3 MB/s eta 0:00:01\n",
      "     ------------------------------------ --- 11.6/12.8 MB 2.3 MB/s eta 0:00:01\n",
      "     ------------------------------------ --- 11.7/12.8 MB 2.3 MB/s eta 0:00:01\n",
      "     ------------------------------------ --- 11.8/12.8 MB 2.3 MB/s eta 0:00:01\n",
      "     ------------------------------------- -- 11.9/12.8 MB 2.3 MB/s eta 0:00:01\n",
      "     ------------------------------------- -- 12.0/12.8 MB 2.3 MB/s eta 0:00:01\n",
      "     -------------------------------------- - 12.2/12.8 MB 2.3 MB/s eta 0:00:01\n",
      "     -------------------------------------- - 12.3/12.8 MB 2.3 MB/s eta 0:00:01\n",
      "     -------------------------------------- - 12.4/12.8 MB 2.3 MB/s eta 0:00:01\n",
      "     ---------------------------------------  12.5/12.8 MB 2.3 MB/s eta 0:00:01\n",
      "     ---------------------------------------  12.6/12.8 MB 2.3 MB/s eta 0:00:01\n",
      "     ---------------------------------------  12.8/12.8 MB 2.3 MB/s eta 0:00:01\n",
      "     ---------------------------------------  12.8/12.8 MB 2.3 MB/s eta 0:00:01\n",
      "     ---------------------------------------  12.8/12.8 MB 2.3 MB/s eta 0:00:01\n",
      "     ---------------------------------------  12.8/12.8 MB 2.3 MB/s eta 0:00:01\n",
      "     ---------------------------------------  12.8/12.8 MB 2.3 MB/s eta 0:00:01\n",
      "     ---------------------------------------  12.8/12.8 MB 2.3 MB/s eta 0:00:01\n",
      "     ---------------------------------------  12.8/12.8 MB 2.3 MB/s eta 0:00:01\n",
      "     ---------------------------------------  12.8/12.8 MB 2.3 MB/s eta 0:00:01\n",
      "     ---------------------------------------  12.8/12.8 MB 2.3 MB/s eta 0:00:01\n",
      "     ---------------------------------------  12.8/12.8 MB 2.3 MB/s eta 0:00:01\n",
      "     ---------------------------------------  12.8/12.8 MB 2.3 MB/s eta 0:00:01\n",
      "     ---------------------------------------  12.8/12.8 MB 2.3 MB/s eta 0:00:01\n",
      "     ---------------------------------------  12.8/12.8 MB 2.3 MB/s eta 0:00:01\n",
      "     ---------------------------------------  12.8/12.8 MB 2.3 MB/s eta 0:00:01\n",
      "     ---------------------------------------- 12.8/12.8 MB 2.1 MB/s eta 0:00:00\n",
      "Requirement already satisfied: spacy<3.8.0,>=3.7.2 in c:\\users\\mdbab\\new_anconda\\lib\\site-packages (from en-core-web-sm==3.7.1) (3.7.5)\n",
      "Requirement already satisfied: spacy-legacy<3.1.0,>=3.0.11 in c:\\users\\mdbab\\new_anconda\\lib\\site-packages (from spacy<3.8.0,>=3.7.2->en-core-web-sm==3.7.1) (3.0.12)\n",
      "Requirement already satisfied: spacy-loggers<2.0.0,>=1.0.0 in c:\\users\\mdbab\\new_anconda\\lib\\site-packages (from spacy<3.8.0,>=3.7.2->en-core-web-sm==3.7.1) (1.0.5)\n",
      "Requirement already satisfied: murmurhash<1.1.0,>=0.28.0 in c:\\users\\mdbab\\new_anconda\\lib\\site-packages (from spacy<3.8.0,>=3.7.2->en-core-web-sm==3.7.1) (1.0.10)\n",
      "Requirement already satisfied: cymem<2.1.0,>=2.0.2 in c:\\users\\mdbab\\new_anconda\\lib\\site-packages (from spacy<3.8.0,>=3.7.2->en-core-web-sm==3.7.1) (2.0.8)\n",
      "Requirement already satisfied: preshed<3.1.0,>=3.0.2 in c:\\users\\mdbab\\new_anconda\\lib\\site-packages (from spacy<3.8.0,>=3.7.2->en-core-web-sm==3.7.1) (3.0.9)\n",
      "Requirement already satisfied: thinc<8.3.0,>=8.2.2 in c:\\users\\mdbab\\new_anconda\\lib\\site-packages (from spacy<3.8.0,>=3.7.2->en-core-web-sm==3.7.1) (8.2.5)\n",
      "Requirement already satisfied: wasabi<1.2.0,>=0.9.1 in c:\\users\\mdbab\\new_anconda\\lib\\site-packages (from spacy<3.8.0,>=3.7.2->en-core-web-sm==3.7.1) (1.1.3)\n",
      "Requirement already satisfied: srsly<3.0.0,>=2.4.3 in c:\\users\\mdbab\\new_anconda\\lib\\site-packages (from spacy<3.8.0,>=3.7.2->en-core-web-sm==3.7.1) (2.4.8)\n",
      "Requirement already satisfied: catalogue<2.1.0,>=2.0.6 in c:\\users\\mdbab\\new_anconda\\lib\\site-packages (from spacy<3.8.0,>=3.7.2->en-core-web-sm==3.7.1) (2.0.10)\n",
      "Requirement already satisfied: weasel<0.5.0,>=0.1.0 in c:\\users\\mdbab\\new_anconda\\lib\\site-packages (from spacy<3.8.0,>=3.7.2->en-core-web-sm==3.7.1) (0.4.1)\n",
      "Requirement already satisfied: typer<1.0.0,>=0.3.0 in c:\\users\\mdbab\\new_anconda\\lib\\site-packages (from spacy<3.8.0,>=3.7.2->en-core-web-sm==3.7.1) (0.12.5)\n",
      "Requirement already satisfied: tqdm<5.0.0,>=4.38.0 in c:\\users\\mdbab\\new_anconda\\lib\\site-packages (from spacy<3.8.0,>=3.7.2->en-core-web-sm==3.7.1) (4.65.0)\n",
      "Requirement already satisfied: requests<3.0.0,>=2.13.0 in c:\\users\\mdbab\\new_anconda\\lib\\site-packages (from spacy<3.8.0,>=3.7.2->en-core-web-sm==3.7.1) (2.31.0)\n",
      "Requirement already satisfied: pydantic!=1.8,!=1.8.1,<3.0.0,>=1.7.4 in c:\\users\\mdbab\\new_anconda\\lib\\site-packages (from spacy<3.8.0,>=3.7.2->en-core-web-sm==3.7.1) (1.10.12)\n",
      "Requirement already satisfied: jinja2 in c:\\users\\mdbab\\new_anconda\\lib\\site-packages (from spacy<3.8.0,>=3.7.2->en-core-web-sm==3.7.1) (3.1.3)\n",
      "Requirement already satisfied: setuptools in c:\\users\\mdbab\\new_anconda\\lib\\site-packages (from spacy<3.8.0,>=3.7.2->en-core-web-sm==3.7.1) (68.2.2)\n",
      "Requirement already satisfied: packaging>=20.0 in c:\\users\\mdbab\\new_anconda\\lib\\site-packages (from spacy<3.8.0,>=3.7.2->en-core-web-sm==3.7.1) (23.2)\n",
      "Requirement already satisfied: langcodes<4.0.0,>=3.2.0 in c:\\users\\mdbab\\new_anconda\\lib\\site-packages (from spacy<3.8.0,>=3.7.2->en-core-web-sm==3.7.1) (3.4.1)\n",
      "Requirement already satisfied: numpy>=1.19.0 in c:\\users\\mdbab\\new_anconda\\lib\\site-packages (from spacy<3.8.0,>=3.7.2->en-core-web-sm==3.7.1) (1.26.4)\n",
      "Requirement already satisfied: language-data>=1.2 in c:\\users\\mdbab\\new_anconda\\lib\\site-packages (from langcodes<4.0.0,>=3.2.0->spacy<3.8.0,>=3.7.2->en-core-web-sm==3.7.1) (1.2.0)\n",
      "Requirement already satisfied: typing-extensions>=4.2.0 in c:\\users\\mdbab\\new_anconda\\lib\\site-packages (from pydantic!=1.8,!=1.8.1,<3.0.0,>=1.7.4->spacy<3.8.0,>=3.7.2->en-core-web-sm==3.7.1) (4.9.0)\n",
      "Requirement already satisfied: charset-normalizer<4,>=2 in c:\\users\\mdbab\\new_anconda\\lib\\site-packages (from requests<3.0.0,>=2.13.0->spacy<3.8.0,>=3.7.2->en-core-web-sm==3.7.1) (3.3.2)\n",
      "Requirement already satisfied: idna<4,>=2.5 in c:\\users\\mdbab\\new_anconda\\lib\\site-packages (from requests<3.0.0,>=2.13.0->spacy<3.8.0,>=3.7.2->en-core-web-sm==3.7.1) (3.4)\n",
      "Requirement already satisfied: urllib3<3,>=1.21.1 in c:\\users\\mdbab\\new_anconda\\lib\\site-packages (from requests<3.0.0,>=2.13.0->spacy<3.8.0,>=3.7.2->en-core-web-sm==3.7.1) (2.0.7)\n",
      "Requirement already satisfied: certifi>=2017.4.17 in c:\\users\\mdbab\\new_anconda\\lib\\site-packages (from requests<3.0.0,>=2.13.0->spacy<3.8.0,>=3.7.2->en-core-web-sm==3.7.1) (2024.2.2)\n",
      "Requirement already satisfied: blis<0.8.0,>=0.7.8 in c:\\users\\mdbab\\new_anconda\\lib\\site-packages (from thinc<8.3.0,>=8.2.2->spacy<3.8.0,>=3.7.2->en-core-web-sm==3.7.1) (0.7.11)\n",
      "Requirement already satisfied: confection<1.0.0,>=0.0.1 in c:\\users\\mdbab\\new_anconda\\lib\\site-packages (from thinc<8.3.0,>=8.2.2->spacy<3.8.0,>=3.7.2->en-core-web-sm==3.7.1) (0.1.5)\n",
      "Requirement already satisfied: colorama in c:\\users\\mdbab\\new_anconda\\lib\\site-packages (from tqdm<5.0.0,>=4.38.0->spacy<3.8.0,>=3.7.2->en-core-web-sm==3.7.1) (0.4.6)\n",
      "Requirement already satisfied: click>=8.0.0 in c:\\users\\mdbab\\new_anconda\\lib\\site-packages (from typer<1.0.0,>=0.3.0->spacy<3.8.0,>=3.7.2->en-core-web-sm==3.7.1) (8.1.7)\n",
      "Requirement already satisfied: shellingham>=1.3.0 in c:\\users\\mdbab\\new_anconda\\lib\\site-packages (from typer<1.0.0,>=0.3.0->spacy<3.8.0,>=3.7.2->en-core-web-sm==3.7.1) (1.5.4)\n",
      "Requirement already satisfied: rich>=10.11.0 in c:\\users\\mdbab\\new_anconda\\lib\\site-packages (from typer<1.0.0,>=0.3.0->spacy<3.8.0,>=3.7.2->en-core-web-sm==3.7.1) (13.3.5)\n",
      "Requirement already satisfied: cloudpathlib<1.0.0,>=0.7.0 in c:\\users\\mdbab\\new_anconda\\lib\\site-packages (from weasel<0.5.0,>=0.1.0->spacy<3.8.0,>=3.7.2->en-core-web-sm==3.7.1) (0.19.0)\n",
      "Requirement already satisfied: smart-open<8.0.0,>=5.2.1 in c:\\users\\mdbab\\new_anconda\\lib\\site-packages (from weasel<0.5.0,>=0.1.0->spacy<3.8.0,>=3.7.2->en-core-web-sm==3.7.1) (5.2.1)\n",
      "Requirement already satisfied: MarkupSafe>=2.0 in c:\\users\\mdbab\\new_anconda\\lib\\site-packages (from jinja2->spacy<3.8.0,>=3.7.2->en-core-web-sm==3.7.1) (2.1.3)\n",
      "Requirement already satisfied: marisa-trie>=0.7.7 in c:\\users\\mdbab\\new_anconda\\lib\\site-packages (from language-data>=1.2->langcodes<4.0.0,>=3.2.0->spacy<3.8.0,>=3.7.2->en-core-web-sm==3.7.1) (1.2.0)\n",
      "Requirement already satisfied: markdown-it-py<3.0.0,>=2.2.0 in c:\\users\\mdbab\\new_anconda\\lib\\site-packages (from rich>=10.11.0->typer<1.0.0,>=0.3.0->spacy<3.8.0,>=3.7.2->en-core-web-sm==3.7.1) (2.2.0)\n",
      "Requirement already satisfied: pygments<3.0.0,>=2.13.0 in c:\\users\\mdbab\\new_anconda\\lib\\site-packages (from rich>=10.11.0->typer<1.0.0,>=0.3.0->spacy<3.8.0,>=3.7.2->en-core-web-sm==3.7.1) (2.15.1)\n",
      "Requirement already satisfied: mdurl~=0.1 in c:\\users\\mdbab\\new_anconda\\lib\\site-packages (from markdown-it-py<3.0.0,>=2.2.0->rich>=10.11.0->typer<1.0.0,>=0.3.0->spacy<3.8.0,>=3.7.2->en-core-web-sm==3.7.1) (0.1.0)\n",
      "\u001b[38;5;2m[+] Download and installation successful\u001b[0m\n",
      "You can now load the package via spacy.load('en_core_web_sm')\n"
     ]
    }
   ],
   "source": [
    "!python -m spacy download en_core_web_sm  "
   ]
  },
  {
   "cell_type": "code",
   "execution_count": 26,
   "id": "8ac06bf6-9b52-41ba-9fa6-1b42985dee75",
   "metadata": {},
   "outputs": [],
   "source": [
    "scy = spacy.load('en_core_web_sm')"
   ]
  },
  {
   "cell_type": "code",
   "execution_count": 27,
   "id": "e2bdb8d4-db48-4a5f-8f04-480338a41a91",
   "metadata": {},
   "outputs": [],
   "source": [
    "doc1 = scy(text)"
   ]
  },
  {
   "cell_type": "code",
   "execution_count": 28,
   "id": "7028e2cf-ccf4-4da5-965e-0506f0313fa9",
   "metadata": {},
   "outputs": [
    {
     "name": "stdout",
     "output_type": "stream",
     "text": [
      "Mr.\n",
      "Fedrick\n",
      "how\n",
      "was\n",
      "your\n",
      "5\n",
      "km\n",
      "run\n",
      ".\n",
      "he\n",
      "reaplied\n",
      "amazing\n",
      "!\n",
      "but\n",
      "it\n",
      "costed\n",
      "me\n",
      "$\n",
      "20\n"
     ]
    }
   ],
   "source": [
    "for tk in doc1:\n",
    "    print(tk)"
   ]
  },
  {
   "cell_type": "markdown",
   "id": "4f10923f-6e9e-4d2e-acb5-b47b373e9a6d",
   "metadata": {},
   "source": [
    "##### Stemming"
   ]
  },
  {
   "cell_type": "code",
   "execution_count": 71,
   "id": "62d151ff-5922-4b03-8860-b6fdc631e0aa",
   "metadata": {},
   "outputs": [],
   "source": [
    "from nltk.stem.porter import PorterStemmer"
   ]
  },
  {
   "cell_type": "code",
   "execution_count": 72,
   "id": "5f752dae-e68e-4dc4-9be7-88550c9cc897",
   "metadata": {},
   "outputs": [],
   "source": [
    "p_Stemmer = PorterStemmer()\n",
    "def stem_word(text):\n",
    "    return \" \".join([p_Stemmer.stem(word) for word in text.split()])"
   ]
  },
  {
   "cell_type": "code",
   "execution_count": 80,
   "id": "97a0942e-36b7-4d5c-a233-e8a587c81cb9",
   "metadata": {},
   "outputs": [
    {
     "data": {
      "text/plain": [
       "'mr. fedrick how wa your 5km run. he reapli amazing! but it cost me $20'"
      ]
     },
     "execution_count": 80,
     "metadata": {},
     "output_type": "execute_result"
    }
   ],
   "source": [
    "stem_word(text)"
   ]
  },
  {
   "cell_type": "code",
   "execution_count": 74,
   "id": "a7b4b49e-f509-4901-8af6-9c70282fc8d6",
   "metadata": {},
   "outputs": [
    {
     "data": {
      "text/html": [
       "<div>\n",
       "<style scoped>\n",
       "    .dataframe tbody tr th:only-of-type {\n",
       "        vertical-align: middle;\n",
       "    }\n",
       "\n",
       "    .dataframe tbody tr th {\n",
       "        vertical-align: top;\n",
       "    }\n",
       "\n",
       "    .dataframe thead th {\n",
       "        text-align: right;\n",
       "    }\n",
       "</style>\n",
       "<table border=\"1\" class=\"dataframe\">\n",
       "  <thead>\n",
       "    <tr style=\"text-align: right;\">\n",
       "      <th></th>\n",
       "      <th>Unnamed: 0</th>\n",
       "      <th>Clothing ID</th>\n",
       "      <th>Age</th>\n",
       "      <th>Title</th>\n",
       "      <th>Review Text</th>\n",
       "      <th>Rating</th>\n",
       "      <th>Recommended IND</th>\n",
       "      <th>Positive Feedback Count</th>\n",
       "      <th>Division Name</th>\n",
       "      <th>Department Name</th>\n",
       "      <th>Class Name</th>\n",
       "    </tr>\n",
       "  </thead>\n",
       "  <tbody>\n",
       "    <tr>\n",
       "      <th>0</th>\n",
       "      <td>0</td>\n",
       "      <td>767</td>\n",
       "      <td>33</td>\n",
       "      <td>NaN</td>\n",
       "      <td>absolutely wonderful silky sexy comfortable</td>\n",
       "      <td>4</td>\n",
       "      <td>1</td>\n",
       "      <td>0</td>\n",
       "      <td>Initmates</td>\n",
       "      <td>Intimate</td>\n",
       "      <td>Intimates</td>\n",
       "    </tr>\n",
       "    <tr>\n",
       "      <th>1</th>\n",
       "      <td>1</td>\n",
       "      <td>1080</td>\n",
       "      <td>34</td>\n",
       "      <td>NaN</td>\n",
       "      <td>love dress sooo pretty happened find store im ...</td>\n",
       "      <td>5</td>\n",
       "      <td>1</td>\n",
       "      <td>4</td>\n",
       "      <td>General</td>\n",
       "      <td>Dresses</td>\n",
       "      <td>Dresses</td>\n",
       "    </tr>\n",
       "    <tr>\n",
       "      <th>2</th>\n",
       "      <td>2</td>\n",
       "      <td>1077</td>\n",
       "      <td>60</td>\n",
       "      <td>Some major design flaws</td>\n",
       "      <td>high hopes dress really wanted work initially ...</td>\n",
       "      <td>3</td>\n",
       "      <td>0</td>\n",
       "      <td>0</td>\n",
       "      <td>General</td>\n",
       "      <td>Dresses</td>\n",
       "      <td>Dresses</td>\n",
       "    </tr>\n",
       "    <tr>\n",
       "      <th>3</th>\n",
       "      <td>3</td>\n",
       "      <td>1049</td>\n",
       "      <td>50</td>\n",
       "      <td>My favorite buy!</td>\n",
       "      <td>love love love jumpsuit fun flirty fabulous ev...</td>\n",
       "      <td>5</td>\n",
       "      <td>1</td>\n",
       "      <td>0</td>\n",
       "      <td>General Petite</td>\n",
       "      <td>Bottoms</td>\n",
       "      <td>Pants</td>\n",
       "    </tr>\n",
       "    <tr>\n",
       "      <th>4</th>\n",
       "      <td>4</td>\n",
       "      <td>847</td>\n",
       "      <td>47</td>\n",
       "      <td>Flattering shirt</td>\n",
       "      <td>shirt flattering due adjustable front tie perf...</td>\n",
       "      <td>5</td>\n",
       "      <td>1</td>\n",
       "      <td>6</td>\n",
       "      <td>General</td>\n",
       "      <td>Tops</td>\n",
       "      <td>Blouses</td>\n",
       "    </tr>\n",
       "  </tbody>\n",
       "</table>\n",
       "</div>"
      ],
      "text/plain": [
       "   Unnamed: 0  Clothing ID  Age                    Title  \\\n",
       "0           0          767   33                      NaN   \n",
       "1           1         1080   34                      NaN   \n",
       "2           2         1077   60  Some major design flaws   \n",
       "3           3         1049   50         My favorite buy!   \n",
       "4           4          847   47         Flattering shirt   \n",
       "\n",
       "                                         Review Text  Rating  Recommended IND  \\\n",
       "0        absolutely wonderful silky sexy comfortable       4                1   \n",
       "1  love dress sooo pretty happened find store im ...       5                1   \n",
       "2  high hopes dress really wanted work initially ...       3                0   \n",
       "3  love love love jumpsuit fun flirty fabulous ev...       5                1   \n",
       "4  shirt flattering due adjustable front tie perf...       5                1   \n",
       "\n",
       "   Positive Feedback Count   Division Name Department Name Class Name  \n",
       "0                        0       Initmates        Intimate  Intimates  \n",
       "1                        4         General         Dresses    Dresses  \n",
       "2                        0         General         Dresses    Dresses  \n",
       "3                        0  General Petite         Bottoms      Pants  \n",
       "4                        6         General            Tops    Blouses  "
      ]
     },
     "execution_count": 74,
     "metadata": {},
     "output_type": "execute_result"
    }
   ],
   "source": [
    "data['Review Text'] = data['Review Text'].astype('category')\n",
    "data['Review Text'].apply(stem_word)\n",
    "data.head()"
   ]
  },
  {
   "cell_type": "code",
   "execution_count": null,
   "id": "2ea262af-05a4-4505-a13c-7eecddb65c94",
   "metadata": {},
   "outputs": [],
   "source": []
  },
  {
   "cell_type": "code",
   "execution_count": null,
   "id": "ac41dc00-3f96-4243-a9ba-7c001002f3ab",
   "metadata": {},
   "outputs": [],
   "source": []
  },
  {
   "cell_type": "markdown",
   "id": "44f76b46-bfff-4968-80bf-105d2a17c32a",
   "metadata": {},
   "source": [
    "##### Lemmatization"
   ]
  },
  {
   "cell_type": "code",
   "execution_count": 49,
   "id": "4cd104f4-cac3-4f57-8637-5710d8fe1daa",
   "metadata": {},
   "outputs": [
    {
     "name": "stderr",
     "output_type": "stream",
     "text": [
      "[nltk_data] Downloading package wordnet to\n",
      "[nltk_data]     C:\\Users\\mdbab\\AppData\\Roaming\\nltk_data...\n",
      "[nltk_data]   Package wordnet is already up-to-date!\n"
     ]
    }
   ],
   "source": [
    "# Using WordNetLemmatizer from nltk.stem liberary\n",
    "import nltk\n",
    "nltk.download('wordnet')\n",
    "from nltk.stem import WordNetLemmatizer"
   ]
  },
  {
   "cell_type": "code",
   "execution_count": 50,
   "id": "94ba672c-2029-481b-9c19-6f0a6f6b3398",
   "metadata": {},
   "outputs": [],
   "source": [
    "WN_lemmatizer = WordNetLemmatizer()"
   ]
  },
  {
   "cell_type": "code",
   "execution_count": 77,
   "id": "d8aa5713-5676-447d-9f2d-db9492321c8b",
   "metadata": {},
   "outputs": [],
   "source": [
    "text = 'study studies joy joys cries cry'"
   ]
  },
  {
   "cell_type": "code",
   "execution_count": 78,
   "id": "f9d8f023-7351-410f-ab3b-8eb8212644ac",
   "metadata": {},
   "outputs": [
    {
     "name": "stdout",
     "output_type": "stream",
     "text": [
      "study\n",
      "study\n",
      "joy\n",
      "joy\n",
      "cry\n",
      "cry\n"
     ]
    }
   ],
   "source": [
    "tokenizer = nltk.word_tokenize(text)\n",
    "for w in tokenizer:\n",
    "    print( str(WN_lemmatizer.lemmatize(w)))"
   ]
  },
  {
   "cell_type": "markdown",
   "id": "45d46c88-7a5f-49ae-b234-bd562eb9b338",
   "metadata": {},
   "source": [
    "## Step 3: Feature Extraction"
   ]
  },
  {
   "cell_type": "markdown",
   "id": "eee27e9d-6abe-49d3-9b35-cd5dea57fb2d",
   "metadata": {},
   "source": [
    "### Word2Vec"
   ]
  },
  {
   "cell_type": "code",
   "execution_count": 84,
   "id": "f48615a1-a977-4a58-b64f-57a71e7a1eac",
   "metadata": {},
   "outputs": [],
   "source": [
    "# Basic Preprocessing\n",
    "\n",
    "text = \"The Echoes of Ashenfall.The village of Ashenfall lay shrouded in mist, nestled deep within the mountains, its once-thriving lands now gray and brittle, like the bones of a long-forgotten giant. For as long as Eira could remember, the mist had wrapped around the village like a snake tightening its grip, never lifting, never changing. The sun was something she could only dream about—an abstract warmth that had once touched these lands but now seemed as distant as the stars.Eira’s father, the last village chief, had disappeared when she was just a child, venturing into the mist to find the source of the curse that plagued Ashenfall. No one had seen him since. Now, the village was ruled by a council of elders, with Elder Maelis as its leader—a man of harsh words and colder eyes, who discouraged any talk of the curse and forbade anyone from leaving the village.But Eira couldn’t let it go. Every night, the same dream haunted her—a voice, soft and insistent, calling her to the Night’s Eye, the jagged peak that loomed over the village like a silent sentinel. In her dreams, the mist parted as she climbed, revealing a crystal tower of light, a source of power hidden deep within the mountain.As the days passed, the dreams became more vivid, more urgent. Eira knew she had to do something. She could feel it in her bones—a pull, like the tug of a distant tide. And she wasn’t alone.Her childhood friend, Lorin, had returned to Ashenfall after years of study in the distant city of Galdorn. Lorin had always been a scholar, drawn to the mysteries of the world, and he came back with news—ancient texts and maps that hinted at a forgotten kingdom buried beneath Ashenfall, and an artifact known as the Heart of Gales. According to Lorin, the Heart was the key to breaking the curse.“I’ve studied everything I could find,” Lorin said, his voice low as they sat in Eira’s small home, the fire flickering between them. “The Heart of Gales was a powerful artifact, used by the ancient kingdom of Velkora to control the winds and weather. But when the kingdom fell, the Heart was lost. I believe it’s somewhere beneath Ashenfall, in the ruins of Velkora.”Eira nodded, her mind racing. “The Night’s Eye. It has to be there. That’s where my father went.”Lorin’s brow furrowed. “The elders won’t let us go. Maelis has forbidden anyone from entering the mists.”Eira’s eyes darkened. “I don’t care. If there’s a chance to lift the curse, I’m going.”The next morning, as they prepared to leave, they were confronted by Elder Maelis himself, his cloak billowing in the wind like the mist that surrounded them.“You’re making a mistake,” he said, his voice cold and authoritative. “The Night’s Eye is a dangerous place, filled with creatures born from the curse. You’ll only bring more suffering to this village.”Eira’s heart pounded in her chest, but she stood her ground. “The village is already suffering. If my father could find a way to lift the curse, so can I.”Maelis’s eyes narrowed, but he said nothing more, turning and disappearing into the mist, leaving Eira and Lorin to their fate.They set out at dawn, the mist curling around their feet like smoke. The forest that surrounded Ashenfall was thick and ancient, its trees gnarled and twisted, their branches reaching out like the fingers of some long-dead creature. As they walked, the mist grew heavier, and the world around them seemed to blur, the trees fading into ghostly shapes.After hours of walking, they encountered their first trial—the Nightshades. These creatures were born from the curse, shadowy forms that lurked in the mist, their eyes glowing like embers. Eira’s breath caught in her throat as the Nightshades circled them, their growls low and menacing.Just as one of the creatures lunged at her, something inside Eira stirred. A warmth spread through her chest, and a burst of golden light shot from her hands, pushing the creature back. The Nightshade recoiled, hissing, and the others quickly followed, retreating into the mist.Lorin stared at her in shock. “What was that?”“I… I don’t know,” Eira replied, her voice shaking. “It just… happened.”They continued their journey, the forest growing darker and more oppressive with each step. It wasn’t long before they encountered a third traveler—a woman with sharp eyes and a bow slung over her shoulder. She introduced herself as Sylva, a ranger who had been living in the forest for years, guiding lost travelers through the mists.“I’ve been watching you,” Sylva said, her voice quiet but firm. “You’re heading to the Night’s Eye, aren’t you?”Eira nodded. “We’re looking for the ruins of Velkora.”Sylva’s eyes narrowed. “You’re not the first. Many have tried, none have returned. But if you’re determined, I’ll help you. The path is treacherous, and the Nightshades are the least of your worries.”With Sylva’s help, they made their way through the forest, navigating the hidden dangers that lurked in the mist. At last, they reached the Ruins of Velkora, a vast underground city hidden beneath the mountain. The city was a maze of crumbling stone and ancient carvings, its streets lined with statues of forgotten kings and queens. At the center of the city stood the Crystal Spire, a towering structure of light and glass that pulsed with a faint, eerie glow.Lorin’s eyes lit up with excitement. “This is it. The Heart of Gales must be here.”But as they approached the Spire, Sylva stepped forward, her face hard. “I’m sorry,” she said, drawing her bow. “But I can’t let you do this.”Eira’s heart raced. “What are you talking about?”Sylva’s eyes flickered with uncertainty, but her voice was firm. “Elder Maelis sent me. He knew you would come here. He believes the curse is a necessary evil, a safeguard against something far worse. If you break the curse, you might unleash something even more dangerous.”Eira’s mind reeled. “Maelis is wrong. This curse is killing our village. We have to stop it.”Sylva hesitated, her grip on the bow tightening. “I don’t want to fight you, but I can’t let you go any further.”Before Eira could respond, the Nightshades descended upon them, their glowing eyes cutting through the mist. The battle that followed was fierce and chaotic, the creatures darting in and out of the shadows, their claws slashing through the air. Eira’s power flared again, a golden light that pushed the creatures back, but it wasn’t enough.In the midst of the chaos, Sylva lowered her bow. “I was wrong,” she muttered, her voice barely audible. “Maelis has been lying to us.”Together, they fought off the Nightshades, their combined strength enough to drive the creatures back into the shadows. When the battle was over, Sylva turned to Eira, her expression filled with regret.“I’m sorry,” she said quietly. “I didn’t know.”Eira nodded, her heart still pounding. “We don’t have time for apologies. We need to find the Heart.”With Sylva’s help, they made their way to the top of the Crystal Spire, where the Heart of Gales lay hidden in a chamber of light and glass. The artifact was a glowing crystal, pulsing with a soft, rhythmic hum, as if it were alive.Eira stepped forward, her hands trembling as she reached for the Heart. As soon as her fingers touched the crystal, a surge of energy shot through her, and the world around her seemed to blur. She could feel the curse, a dark, oppressive force that had wrapped itself around Ashenfall, feeding on the village’s life.With a deep breath, Eira focused her power, drawing on the strength of her lineage, and channeled it into the Heart. The crystal flared with light, and the curse shattered like glass, the mist lifting as the sun broke through the clouds for the first time in centuries.Ashenfall was free.The villagers rejoiced as the sun warmed their faces, and the land began to heal. Eira was hailed as a hero, chosen to lead the village into a new era of prosperity. Lorin returned to his studies, eager to uncover more of the lost knowledge of Velkora, while Sylva stayed behind, her bow now a symbol of her vow to protect the village from any future threats.But as Eira stood at the edge of the village, watching the last of the mist fade into the horizon, she couldn’t shake the feeling that something else had awoken—something ancient and dangerous, hidden deep within the mountains.The curse was gone, but the echoes of Ashenfall had only just begun.\"\n",
    "text = text.lower()\n",
    "text = remove_stopwords(text)\n",
    "text = remove_punc(text)\n",
    "text = word_tokenize(text)"
   ]
  },
  {
   "cell_type": "code",
   "execution_count": 85,
   "id": "83ba51de-0aca-4b14-9d7d-ba3620a73e1f",
   "metadata": {
    "scrolled": true
   },
   "outputs": [
    {
     "name": "stdout",
     "output_type": "stream",
     "text": [
      "['echoes', 'ashenfallthe', 'village', 'ashenfall', 'lay', 'shrouded', 'mist', 'nestled', 'deep', 'within', 'mountains', 'oncethriving', 'lands', 'gray', 'brittle', 'like', 'bones', 'longforgotten', 'giant', 'long', 'eira', 'could', 'remember', 'mist', 'wrapped', 'around', 'village', 'like', 'snake', 'tightening', 'grip', 'never', 'lifting', 'never', 'changing', 'sun', 'something', 'could', 'dream', 'about—an', 'abstract', 'warmth', 'touched', 'lands', 'seemed', 'distant', 'starseira', '’', 's', 'father', 'last', 'village', 'chief', 'disappeared', 'child', 'venturing', 'mist', 'find', 'source', 'curse', 'plagued', 'ashenfall', 'one', 'seen', 'since', 'now', 'village', 'ruled', 'council', 'elders', 'elder', 'maelis', 'leader—a', 'man', 'harsh', 'words', 'colder', 'eyes', 'discouraged', 'talk', 'curse', 'forbade', 'anyone', 'leaving', 'villagebut', 'eira', 'couldn', '’', 't', 'let', 'go', 'every', 'night', 'dream', 'haunted', 'her—a', 'voice', 'soft', 'insistent', 'calling', 'night', '’', 's', 'eye', 'jagged', 'peak', 'loomed', 'village', 'like', 'silent', 'sentinel', 'dreams', 'mist', 'parted', 'climbed', 'revealing', 'crystal', 'tower', 'light', 'source', 'power', 'hidden', 'deep', 'within', 'mountainas', 'days', 'passed', 'dreams', 'became', 'vivid', 'urgent', 'eira', 'knew', 'something', 'could', 'feel', 'bones—a', 'pull', 'like', 'tug', 'distant', 'tide', 'wasn', '’', 't', 'aloneher', 'childhood', 'friend', 'lorin', 'returned', 'ashenfall', 'years', 'study', 'distant', 'city', 'galdorn', 'lorin', 'always', 'scholar', 'drawn', 'mysteries', 'world', 'came', 'back', 'news—ancient', 'texts', 'maps', 'hinted', 'forgotten', 'kingdom', 'buried', 'beneath', 'ashenfall', 'artifact', 'known', 'heart', 'gales', 'according', 'lorin', 'heart', 'key', 'breaking', 'curse', '“', 'i', '’', 've', 'studied', 'everything', 'could', 'find', '”', 'lorin', 'said', 'voice', 'low', 'sat', 'eira', '’', 's', 'small', 'home', 'fire', 'flickering', 'them', '“', 'the', 'heart', 'gales', 'powerful', 'artifact', 'used', 'ancient', 'kingdom', 'velkora', 'control', 'winds', 'weather', 'kingdom', 'fell', 'heart', 'lost', 'believe', 'it', '’', 's', 'somewhere', 'beneath', 'ashenfall', 'ruins', 'velkora', '”', 'eira', 'nodded', 'mind', 'racing', '“', 'the', 'night', '’', 's', 'eye', 'there', 'that', '’', 's', 'father', 'went', '”', 'lorin', '’', 's', 'brow', 'furrowed', '“', 'the', 'elders', 'won', '’', 't', 'let', 'us', 'go', 'maelis', 'forbidden', 'anyone', 'entering', 'mists', '”', 'eira', '’', 's', 'eyes', 'darkened', '“', 'i', 'don', '’', 't', 'care', 'there', '’', 's', 'chance', 'lift', 'curse', 'i', '’', 'm', 'going', '”', 'the', 'next', 'morning', 'prepared', 'leave', 'confronted', 'elder', 'maelis', 'himself', 'cloak', 'billowing', 'wind', 'like', 'mist', 'surrounded', 'them', '“', 'you', '’', 're', 'making', 'mistake', '”', 'said', 'voice', 'cold', 'authoritative', '“', 'the', 'night', '’', 's', 'eye', 'dangerous', 'place', 'filled', 'creatures', 'born', 'curse', 'you', '’', 'll', 'bring', 'suffering', 'village', '”', 'eira', '’', 's', 'heart', 'pounded', 'chest', 'stood', 'ground', '“', 'the', 'village', 'already', 'suffering', 'father', 'could', 'find', 'way', 'lift', 'curse', 'i', '”', 'maelis', '’', 's', 'eyes', 'narrowed', 'said', 'nothing', 'more', 'turning', 'disappearing', 'mist', 'leaving', 'eira', 'lorin', 'fatethey', 'set', 'dawn', 'mist', 'curling', 'around', 'feet', 'like', 'smoke', 'forest', 'surrounded', 'ashenfall', 'thick', 'ancient', 'trees', 'gnarled', 'twisted', 'branches', 'reaching', 'like', 'fingers', 'longdead', 'creature', 'walked', 'mist', 'grew', 'heavier', 'world', 'around', 'seemed', 'blur', 'trees', 'fading', 'ghostly', 'shapesafter', 'hours', 'walking', 'encountered', 'first', 'trial—the', 'nightshades', 'creatures', 'born', 'curse', 'shadowy', 'forms', 'lurked', 'mist', 'eyes', 'glowing', 'like', 'embers', 'eira', '’', 's', 'breath', 'caught', 'throat', 'nightshades', 'circled', 'them', 'growls', 'low', 'menacingjust', 'one', 'creatures', 'lunged', 'her', 'something', 'inside', 'eira', 'stirred', 'warmth', 'spread', 'chest', 'burst', 'golden', 'light', 'shot', 'hands', 'pushing', 'creature', 'back', 'nightshade', 'recoiled', 'hissing', 'others', 'quickly', 'followed', 'retreating', 'mistlorin', 'stared', 'shock', '“', 'what', 'that', '”', '“', 'i…', 'don', '’', 't', 'know', '”', 'eira', 'replied', 'voice', 'shaking', '“', 'it', 'just…', 'happened', '”', 'they', 'continued', 'journey', 'forest', 'growing', 'darker', 'oppressive', 'step', 'wasn', '’', 't', 'long', 'encountered', 'third', 'traveler—a', 'woman', 'sharp', 'eyes', 'bow', 'slung', 'shoulder', 'introduced', 'sylva', 'ranger', 'living', 'forest', 'years', 'guiding', 'lost', 'travelers', 'mists', '“', 'i', '’', 've', 'watching', 'you', '”', 'sylva', 'said', 'voice', 'quiet', 'firm', '“', 'you', '’', 're', 'heading', 'night', '’', 's', 'eye', 'aren', '’', 't', 'you', '”', 'eira', 'nodded', '“', 'we', '’', 're', 'looking', 'ruins', 'velkora', '”', 'sylva', '’', 's', 'eyes', 'narrowed', '“', 'you', '’', 're', 'first', 'many', 'tried', 'none', 'returned', 'you', '’', 're', 'determined', 'i', '’', 'll', 'help', 'you', 'path', 'treacherous', 'nightshades', 'least', 'worries', '”', 'with', 'sylva', '’', 's', 'help', 'made', 'way', 'forest', 'navigating', 'hidden', 'dangers', 'lurked', 'mist', 'last', 'reached', 'ruins', 'velkora', 'vast', 'underground', 'city', 'hidden', 'beneath', 'mountain', 'city', 'maze', 'crumbling', 'stone', 'ancient', 'carvings', 'streets', 'lined', 'statues', 'forgotten', 'kings', 'queens', 'center', 'city', 'stood', 'crystal', 'spire', 'towering', 'structure', 'light', 'glass', 'pulsed', 'faint', 'eerie', 'glowlorin', '’', 's', 'eyes', 'lit', 'excitement', '“', 'this', 'it', 'heart', 'gales', 'must', 'here', '”', 'but', 'approached', 'spire', 'sylva', 'stepped', 'forward', 'face', 'hard', '“', 'i', '’', 'm', 'sorry', '”', 'said', 'drawing', 'bow', '“', 'but', 'can', '’', 't', 'let', 'this', '”', 'eira', '’', 's', 'heart', 'raced', '“', 'what', 'talking', 'about', '”', 'sylva', '’', 's', 'eyes', 'flickered', 'uncertainty', 'voice', 'firm', '“', 'elder', 'maelis', 'sent', 'me', 'knew', 'would', 'come', 'here', 'believes', 'curse', 'necessary', 'evil', 'safeguard', 'something', 'far', 'worse', 'break', 'curse', 'might', 'unleash', 'something', 'even', 'dangerous', '”', 'eira', '’', 's', 'mind', 'reeled', '“', 'maelis', 'wrong', 'curse', 'killing', 'village', 'stop', 'it', '”', 'sylva', 'hesitated', 'grip', 'bow', 'tightening', '“', 'i', 'don', '’', 't', 'want', 'fight', 'you', 'can', '’', 't', 'let', 'go', 'further', '”', 'before', 'eira', 'could', 'respond', 'nightshades', 'descended', 'upon', 'them', 'glowing', 'eyes', 'cutting', 'mist', 'battle', 'followed', 'fierce', 'chaotic', 'creatures', 'darting', 'shadows', 'claws', 'slashing', 'air', 'eira', '’', 's', 'power', 'flared', 'again', 'golden', 'light', 'pushed', 'creatures', 'back', 'wasn', '’', 't', 'enoughin', 'midst', 'chaos', 'sylva', 'lowered', 'bow', '“', 'i', 'wrong', '”', 'muttered', 'voice', 'barely', 'audible', '“', 'maelis', 'lying', 'us', '”', 'together', 'fought', 'nightshades', 'combined', 'strength', 'enough', 'drive', 'creatures', 'back', 'shadows', 'battle', 'over', 'sylva', 'turned', 'eira', 'expression', 'filled', 'regret', '“', 'i', '’', 'm', 'sorry', '”', 'said', 'quietly', '“', 'i', 'didn', '’', 't', 'know', '”', 'eira', 'nodded', 'heart', 'still', 'pounding', '“', 'we', 'don', '’', 't', 'time', 'apologies', 'need', 'find', 'heart', '”', 'with', 'sylva', '’', 's', 'help', 'made', 'way', 'top', 'crystal', 'spire', 'heart', 'gales', 'lay', 'hidden', 'chamber', 'light', 'glass', 'artifact', 'glowing', 'crystal', 'pulsing', 'soft', 'rhythmic', 'hum', 'aliveeira', 'stepped', 'forward', 'hands', 'trembling', 'reached', 'heart', 'soon', 'fingers', 'touched', 'crystal', 'surge', 'energy', 'shot', 'her', 'world', 'around', 'seemed', 'blur', 'could', 'feel', 'curse', 'dark', 'oppressive', 'force', 'wrapped', 'around', 'ashenfall', 'feeding', 'village', '’', 's', 'lifewith', 'deep', 'breath', 'eira', 'focused', 'power', 'drawing', 'strength', 'lineage', 'channeled', 'heart', 'crystal', 'flared', 'light', 'curse', 'shattered', 'like', 'glass', 'mist', 'lifting', 'sun', 'broke', 'clouds', 'first', 'time', 'centuriesashenfall', 'freethe', 'villagers', 'rejoiced', 'sun', 'warmed', 'faces', 'land', 'began', 'heal', 'eira', 'hailed', 'hero', 'chosen', 'lead', 'village', 'new', 'era', 'prosperity', 'lorin', 'returned', 'studies', 'eager', 'uncover', 'lost', 'knowledge', 'velkora', 'sylva', 'stayed', 'behind', 'bow', 'symbol', 'vow', 'protect', 'village', 'future', 'threatsbut', 'eira', 'stood', 'edge', 'village', 'watching', 'last', 'mist', 'fade', 'horizon', 'couldn', '’', 't', 'shake', 'feeling', 'something', 'else', 'awoken—something', 'ancient', 'dangerous', 'hidden', 'deep', 'within', 'mountainsthe', 'curse', 'gone', 'echoes', 'ashenfall', 'begun']\n"
     ]
    }
   ],
   "source": [
    "text1 = []\n",
    "for i in text:\n",
    "    x = remove_punc(i)\n",
    "    text1.append(x)\n",
    "print(text1)"
   ]
  },
  {
   "cell_type": "code",
   "execution_count": 73,
   "id": "c42fbae2-a45d-4d8f-b5f3-6711c6f72cac",
   "metadata": {
    "scrolled": true
   },
   "outputs": [],
   "source": [
    "text2 = []\n",
    "for w in text1:\n",
    "    x= str(WN_lemmatizer.lemmatize(w))\n",
    "    text2.append(x)"
   ]
  },
  {
   "cell_type": "code",
   "execution_count": 74,
   "id": "cbbccc5a-2adc-4b90-b9f8-608ddfb60a02",
   "metadata": {},
   "outputs": [
    {
     "name": "stdout",
     "output_type": "stream",
     "text": [
      "['echo', 'ashenfallthe', 'village', 'ashenfall', 'lay', 'shrouded', 'mist', 'nestled', 'deep', 'within', 'mountain', 'oncethriving', 'land', 'gray', 'brittle', 'like', 'bone', 'longforgotten', 'giant', 'long', 'eira', 'could', 'remember', 'mist', 'wrapped', 'around', 'village', 'like', 'snake', 'tightening', 'grip', 'never', 'lifting', 'never', 'changing', 'sun', 'something', 'could', 'dream', 'about—an', 'abstract', 'warmth', 'touched', 'land', 'seemed', 'distant', 'starseira', '’', 's', 'father', 'last', 'village', 'chief', 'disappeared', 'child', 'venturing', 'mist', 'find', 'source', 'curse', 'plagued', 'ashenfall', 'one', 'seen', 'since', 'now', 'village', 'ruled', 'council', 'elder', 'elder', 'maelis', 'leader—a', 'man', 'harsh', 'word', 'colder', 'eye', 'discouraged', 'talk', 'curse', 'forbade', 'anyone', 'leaving', 'villagebut', 'eira', 'couldn', '’', 't', 'let', 'go', 'every', 'night', 'dream', 'haunted', 'her—a', 'voice', 'soft', 'insistent', 'calling', 'night', '’', 's', 'eye', 'jagged', 'peak', 'loomed', 'village', 'like', 'silent', 'sentinel', 'dream', 'mist', 'parted', 'climbed', 'revealing', 'crystal', 'tower', 'light', 'source', 'power', 'hidden', 'deep', 'within', 'mountainas', 'day', 'passed', 'dream', 'became', 'vivid', 'urgent', 'eira', 'knew', 'something', 'could', 'feel', 'bones—a', 'pull', 'like', 'tug', 'distant', 'tide', 'wasn', '’', 't', 'aloneher', 'childhood', 'friend', 'lorin', 'returned', 'ashenfall', 'year', 'study', 'distant', 'city', 'galdorn', 'lorin', 'always', 'scholar', 'drawn', 'mystery', 'world', 'came', 'back', 'news—ancient', 'text', 'map', 'hinted', 'forgotten', 'kingdom', 'buried', 'beneath', 'ashenfall', 'artifact', 'known', 'heart', 'gale', 'according', 'lorin', 'heart', 'key', 'breaking', 'curse', '“', 'i', '’', 've', 'studied', 'everything', 'could', 'find', '”', 'lorin', 'said', 'voice', 'low', 'sat', 'eira', '’', 's', 'small', 'home', 'fire', 'flickering', 'them', '“', 'the', 'heart', 'gale', 'powerful', 'artifact', 'used', 'ancient', 'kingdom', 'velkora', 'control', 'wind', 'weather', 'kingdom', 'fell', 'heart', 'lost', 'believe', 'it', '’', 's', 'somewhere', 'beneath', 'ashenfall', 'ruin', 'velkora', '”', 'eira', 'nodded', 'mind', 'racing', '“', 'the', 'night', '’', 's', 'eye', 'there', 'that', '’', 's', 'father', 'went', '”', 'lorin', '’', 's', 'brow', 'furrowed', '“', 'the', 'elder', 'won', '’', 't', 'let', 'u', 'go', 'maelis', 'forbidden', 'anyone', 'entering', 'mist', '”', 'eira', '’', 's', 'eye', 'darkened', '“', 'i', 'don', '’', 't', 'care', 'there', '’', 's', 'chance', 'lift', 'curse', 'i', '’', 'm', 'going', '”', 'the', 'next', 'morning', 'prepared', 'leave', 'confronted', 'elder', 'maelis', 'himself', 'cloak', 'billowing', 'wind', 'like', 'mist', 'surrounded', 'them', '“', 'you', '’', 're', 'making', 'mistake', '”', 'said', 'voice', 'cold', 'authoritative', '“', 'the', 'night', '’', 's', 'eye', 'dangerous', 'place', 'filled', 'creature', 'born', 'curse', 'you', '’', 'll', 'bring', 'suffering', 'village', '”', 'eira', '’', 's', 'heart', 'pounded', 'chest', 'stood', 'ground', '“', 'the', 'village', 'already', 'suffering', 'father', 'could', 'find', 'way', 'lift', 'curse', 'i', '”', 'maelis', '’', 's', 'eye', 'narrowed', 'said', 'nothing', 'more', 'turning', 'disappearing', 'mist', 'leaving', 'eira', 'lorin', 'fatethey', 'set', 'dawn', 'mist', 'curling', 'around', 'foot', 'like', 'smoke', 'forest', 'surrounded', 'ashenfall', 'thick', 'ancient', 'tree', 'gnarled', 'twisted', 'branch', 'reaching', 'like', 'finger', 'longdead', 'creature', 'walked', 'mist', 'grew', 'heavier', 'world', 'around', 'seemed', 'blur', 'tree', 'fading', 'ghostly', 'shapesafter', 'hour', 'walking', 'encountered', 'first', 'trial—the', 'nightshade', 'creature', 'born', 'curse', 'shadowy', 'form', 'lurked', 'mist', 'eye', 'glowing', 'like', 'ember', 'eira', '’', 's', 'breath', 'caught', 'throat', 'nightshade', 'circled', 'them', 'growl', 'low', 'menacingjust', 'one', 'creature', 'lunged', 'her', 'something', 'inside', 'eira', 'stirred', 'warmth', 'spread', 'chest', 'burst', 'golden', 'light', 'shot', 'hand', 'pushing', 'creature', 'back', 'nightshade', 'recoiled', 'hissing', 'others', 'quickly', 'followed', 'retreating', 'mistlorin', 'stared', 'shock', '“', 'what', 'that', '”', '“', 'i…', 'don', '’', 't', 'know', '”', 'eira', 'replied', 'voice', 'shaking', '“', 'it', 'just…', 'happened', '”', 'they', 'continued', 'journey', 'forest', 'growing', 'darker', 'oppressive', 'step', 'wasn', '’', 't', 'long', 'encountered', 'third', 'traveler—a', 'woman', 'sharp', 'eye', 'bow', 'slung', 'shoulder', 'introduced', 'sylva', 'ranger', 'living', 'forest', 'year', 'guiding', 'lost', 'traveler', 'mist', '“', 'i', '’', 've', 'watching', 'you', '”', 'sylva', 'said', 'voice', 'quiet', 'firm', '“', 'you', '’', 're', 'heading', 'night', '’', 's', 'eye', 'aren', '’', 't', 'you', '”', 'eira', 'nodded', '“', 'we', '’', 're', 'looking', 'ruin', 'velkora', '”', 'sylva', '’', 's', 'eye', 'narrowed', '“', 'you', '’', 're', 'first', 'many', 'tried', 'none', 'returned', 'you', '’', 're', 'determined', 'i', '’', 'll', 'help', 'you', 'path', 'treacherous', 'nightshade', 'least', 'worry', '”', 'with', 'sylva', '’', 's', 'help', 'made', 'way', 'forest', 'navigating', 'hidden', 'danger', 'lurked', 'mist', 'last', 'reached', 'ruin', 'velkora', 'vast', 'underground', 'city', 'hidden', 'beneath', 'mountain', 'city', 'maze', 'crumbling', 'stone', 'ancient', 'carving', 'street', 'lined', 'statue', 'forgotten', 'king', 'queen', 'center', 'city', 'stood', 'crystal', 'spire', 'towering', 'structure', 'light', 'glass', 'pulsed', 'faint', 'eerie', 'glowlorin', '’', 's', 'eye', 'lit', 'excitement', '“', 'this', 'it', 'heart', 'gale', 'must', 'here', '”', 'but', 'approached', 'spire', 'sylva', 'stepped', 'forward', 'face', 'hard', '“', 'i', '’', 'm', 'sorry', '”', 'said', 'drawing', 'bow', '“', 'but', 'can', '’', 't', 'let', 'this', '”', 'eira', '’', 's', 'heart', 'raced', '“', 'what', 'talking', 'about', '”', 'sylva', '’', 's', 'eye', 'flickered', 'uncertainty', 'voice', 'firm', '“', 'elder', 'maelis', 'sent', 'me', 'knew', 'would', 'come', 'here', 'belief', 'curse', 'necessary', 'evil', 'safeguard', 'something', 'far', 'worse', 'break', 'curse', 'might', 'unleash', 'something', 'even', 'dangerous', '”', 'eira', '’', 's', 'mind', 'reeled', '“', 'maelis', 'wrong', 'curse', 'killing', 'village', 'stop', 'it', '”', 'sylva', 'hesitated', 'grip', 'bow', 'tightening', '“', 'i', 'don', '’', 't', 'want', 'fight', 'you', 'can', '’', 't', 'let', 'go', 'further', '”', 'before', 'eira', 'could', 'respond', 'nightshade', 'descended', 'upon', 'them', 'glowing', 'eye', 'cutting', 'mist', 'battle', 'followed', 'fierce', 'chaotic', 'creature', 'darting', 'shadow', 'claw', 'slashing', 'air', 'eira', '’', 's', 'power', 'flared', 'again', 'golden', 'light', 'pushed', 'creature', 'back', 'wasn', '’', 't', 'enoughin', 'midst', 'chaos', 'sylva', 'lowered', 'bow', '“', 'i', 'wrong', '”', 'muttered', 'voice', 'barely', 'audible', '“', 'maelis', 'lying', 'u', '”', 'together', 'fought', 'nightshade', 'combined', 'strength', 'enough', 'drive', 'creature', 'back', 'shadow', 'battle', 'over', 'sylva', 'turned', 'eira', 'expression', 'filled', 'regret', '“', 'i', '’', 'm', 'sorry', '”', 'said', 'quietly', '“', 'i', 'didn', '’', 't', 'know', '”', 'eira', 'nodded', 'heart', 'still', 'pounding', '“', 'we', 'don', '’', 't', 'time', 'apology', 'need', 'find', 'heart', '”', 'with', 'sylva', '’', 's', 'help', 'made', 'way', 'top', 'crystal', 'spire', 'heart', 'gale', 'lay', 'hidden', 'chamber', 'light', 'glass', 'artifact', 'glowing', 'crystal', 'pulsing', 'soft', 'rhythmic', 'hum', 'aliveeira', 'stepped', 'forward', 'hand', 'trembling', 'reached', 'heart', 'soon', 'finger', 'touched', 'crystal', 'surge', 'energy', 'shot', 'her', 'world', 'around', 'seemed', 'blur', 'could', 'feel', 'curse', 'dark', 'oppressive', 'force', 'wrapped', 'around', 'ashenfall', 'feeding', 'village', '’', 's', 'lifewith', 'deep', 'breath', 'eira', 'focused', 'power', 'drawing', 'strength', 'lineage', 'channeled', 'heart', 'crystal', 'flared', 'light', 'curse', 'shattered', 'like', 'glass', 'mist', 'lifting', 'sun', 'broke', 'cloud', 'first', 'time', 'centuriesashenfall', 'freethe', 'villager', 'rejoiced', 'sun', 'warmed', 'face', 'land', 'began', 'heal', 'eira', 'hailed', 'hero', 'chosen', 'lead', 'village', 'new', 'era', 'prosperity', 'lorin', 'returned', 'study', 'eager', 'uncover', 'lost', 'knowledge', 'velkora', 'sylva', 'stayed', 'behind', 'bow', 'symbol', 'vow', 'protect', 'village', 'future', 'threatsbut', 'eira', 'stood', 'edge', 'village', 'watching', 'last', 'mist', 'fade', 'horizon', 'couldn', '’', 't', 'shake', 'feeling', 'something', 'else', 'awoken—something', 'ancient', 'dangerous', 'hidden', 'deep', 'within', 'mountainsthe', 'curse', 'gone', 'echo', 'ashenfall', 'begun']\n"
     ]
    }
   ],
   "source": [
    "print(text2)"
   ]
  },
  {
   "cell_type": "code",
   "execution_count": 75,
   "id": "d83451f3-acc3-4c7c-ae11-9d2752edbda0",
   "metadata": {},
   "outputs": [
    {
     "name": "stdout",
     "output_type": "stream",
     "text": [
      "Requirement already satisfied: gensim in c:\\users\\mdbab\\new_anconda\\lib\\site-packages (4.3.0)\n",
      "Requirement already satisfied: numpy>=1.18.5 in c:\\users\\mdbab\\new_anconda\\lib\\site-packages (from gensim) (1.26.4)\n",
      "Requirement already satisfied: scipy>=1.7.0 in c:\\users\\mdbab\\new_anconda\\lib\\site-packages (from gensim) (1.11.4)\n",
      "Requirement already satisfied: smart-open>=1.8.1 in c:\\users\\mdbab\\new_anconda\\lib\\site-packages (from gensim) (5.2.1)\n",
      "Requirement already satisfied: FuzzyTM>=0.4.0 in c:\\users\\mdbab\\new_anconda\\lib\\site-packages (from gensim) (2.0.9)\n",
      "Requirement already satisfied: pandas in c:\\users\\mdbab\\new_anconda\\lib\\site-packages (from FuzzyTM>=0.4.0->gensim) (2.2.2)\n",
      "Requirement already satisfied: pyfume in c:\\users\\mdbab\\new_anconda\\lib\\site-packages (from FuzzyTM>=0.4.0->gensim) (0.3.1)\n",
      "Requirement already satisfied: python-dateutil>=2.8.2 in c:\\users\\mdbab\\new_anconda\\lib\\site-packages (from pandas->FuzzyTM>=0.4.0->gensim) (2.8.2)\n",
      "Requirement already satisfied: pytz>=2020.1 in c:\\users\\mdbab\\new_anconda\\lib\\site-packages (from pandas->FuzzyTM>=0.4.0->gensim) (2023.3.post1)\n",
      "Requirement already satisfied: tzdata>=2022.7 in c:\\users\\mdbab\\new_anconda\\lib\\site-packages (from pandas->FuzzyTM>=0.4.0->gensim) (2023.3)\n",
      "Requirement already satisfied: simpful in c:\\users\\mdbab\\new_anconda\\lib\\site-packages (from pyfume->FuzzyTM>=0.4.0->gensim) (2.12.0)\n",
      "Requirement already satisfied: fst-pso in c:\\users\\mdbab\\new_anconda\\lib\\site-packages (from pyfume->FuzzyTM>=0.4.0->gensim) (1.8.1)\n",
      "Requirement already satisfied: typing-extensions in c:\\users\\mdbab\\new_anconda\\lib\\site-packages (from pyfume->FuzzyTM>=0.4.0->gensim) (4.9.0)\n",
      "Requirement already satisfied: six>=1.5 in c:\\users\\mdbab\\new_anconda\\lib\\site-packages (from python-dateutil>=2.8.2->pandas->FuzzyTM>=0.4.0->gensim) (1.16.0)\n",
      "Requirement already satisfied: miniful in c:\\users\\mdbab\\new_anconda\\lib\\site-packages (from fst-pso->pyfume->FuzzyTM>=0.4.0->gensim) (0.0.6)\n"
     ]
    }
   ],
   "source": [
    "!pip install gensim"
   ]
  },
  {
   "cell_type": "code",
   "execution_count": 76,
   "id": "4dad1fd4-b621-44c5-85a2-6f514b9953fd",
   "metadata": {},
   "outputs": [],
   "source": [
    "import gensim"
   ]
  },
  {
   "cell_type": "code",
   "execution_count": 89,
   "id": "4d3a9ab4-3d9b-49f4-8740-aa48d772d9d3",
   "metadata": {},
   "outputs": [],
   "source": [
    "model = gensim.models.Word2Vec(window=1, min_count=2)"
   ]
  },
  {
   "cell_type": "code",
   "execution_count": 90,
   "id": "6d454c35-da4d-49a8-8d54-91ba2c386cf6",
   "metadata": {},
   "outputs": [],
   "source": [
    "model.build_vocab(text1)"
   ]
  },
  {
   "cell_type": "code",
   "execution_count": 91,
   "id": "dada67d8-9b8d-4214-bd43-c198c0b838b6",
   "metadata": {},
   "outputs": [
    {
     "data": {
      "text/plain": [
       "(4393, 24505)"
      ]
     },
     "execution_count": 91,
     "metadata": {},
     "output_type": "execute_result"
    }
   ],
   "source": [
    "model.train(text2, total_examples=model.corpus_count, epochs= model.epochs)"
   ]
  },
  {
   "cell_type": "code",
   "execution_count": null,
   "id": "1c4b5e21-8aef-462a-b923-5b10dac5164b",
   "metadata": {},
   "outputs": [],
   "source": []
  },
  {
   "cell_type": "code",
   "execution_count": 92,
   "id": "ff39dea0-186a-482e-90fe-cdce66dfce00",
   "metadata": {},
   "outputs": [
    {
     "ename": "KeyError",
     "evalue": "\"Key 'kingdom' not present in vocabulary\"",
     "output_type": "error",
     "traceback": [
      "\u001b[1;31m---------------------------------------------------------------------------\u001b[0m",
      "\u001b[1;31mKeyError\u001b[0m                                  Traceback (most recent call last)",
      "Cell \u001b[1;32mIn[92], line 1\u001b[0m\n\u001b[1;32m----> 1\u001b[0m model\u001b[38;5;241m.\u001b[39mwv\u001b[38;5;241m.\u001b[39mmost_similar(\u001b[38;5;124m'\u001b[39m\u001b[38;5;124mkingdom\u001b[39m\u001b[38;5;124m'\u001b[39m)\n",
      "File \u001b[1;32m~\\new_anconda\\Lib\\site-packages\\gensim\\models\\keyedvectors.py:841\u001b[0m, in \u001b[0;36mKeyedVectors.most_similar\u001b[1;34m(self, positive, negative, topn, clip_start, clip_end, restrict_vocab, indexer)\u001b[0m\n\u001b[0;32m    838\u001b[0m         weight[idx] \u001b[38;5;241m=\u001b[39m item[\u001b[38;5;241m1\u001b[39m]\n\u001b[0;32m    840\u001b[0m \u001b[38;5;66;03m# compute the weighted average of all keys\u001b[39;00m\n\u001b[1;32m--> 841\u001b[0m mean \u001b[38;5;241m=\u001b[39m \u001b[38;5;28mself\u001b[39m\u001b[38;5;241m.\u001b[39mget_mean_vector(keys, weight, pre_normalize\u001b[38;5;241m=\u001b[39m\u001b[38;5;28;01mTrue\u001b[39;00m, post_normalize\u001b[38;5;241m=\u001b[39m\u001b[38;5;28;01mTrue\u001b[39;00m, ignore_missing\u001b[38;5;241m=\u001b[39m\u001b[38;5;28;01mFalse\u001b[39;00m)\n\u001b[0;32m    842\u001b[0m all_keys \u001b[38;5;241m=\u001b[39m [\n\u001b[0;32m    843\u001b[0m     \u001b[38;5;28mself\u001b[39m\u001b[38;5;241m.\u001b[39mget_index(key) \u001b[38;5;28;01mfor\u001b[39;00m key \u001b[38;5;129;01min\u001b[39;00m keys \u001b[38;5;28;01mif\u001b[39;00m \u001b[38;5;28misinstance\u001b[39m(key, _KEY_TYPES) \u001b[38;5;129;01mand\u001b[39;00m \u001b[38;5;28mself\u001b[39m\u001b[38;5;241m.\u001b[39mhas_index_for(key)\n\u001b[0;32m    844\u001b[0m ]\n\u001b[0;32m    846\u001b[0m \u001b[38;5;28;01mif\u001b[39;00m indexer \u001b[38;5;129;01mis\u001b[39;00m \u001b[38;5;129;01mnot\u001b[39;00m \u001b[38;5;28;01mNone\u001b[39;00m \u001b[38;5;129;01mand\u001b[39;00m \u001b[38;5;28misinstance\u001b[39m(topn, \u001b[38;5;28mint\u001b[39m):\n",
      "File \u001b[1;32m~\\new_anconda\\Lib\\site-packages\\gensim\\models\\keyedvectors.py:518\u001b[0m, in \u001b[0;36mKeyedVectors.get_mean_vector\u001b[1;34m(self, keys, weights, pre_normalize, post_normalize, ignore_missing)\u001b[0m\n\u001b[0;32m    516\u001b[0m         total_weight \u001b[38;5;241m+\u001b[39m\u001b[38;5;241m=\u001b[39m \u001b[38;5;28mabs\u001b[39m(weights[idx])\n\u001b[0;32m    517\u001b[0m     \u001b[38;5;28;01melif\u001b[39;00m \u001b[38;5;129;01mnot\u001b[39;00m ignore_missing:\n\u001b[1;32m--> 518\u001b[0m         \u001b[38;5;28;01mraise\u001b[39;00m \u001b[38;5;167;01mKeyError\u001b[39;00m(\u001b[38;5;124mf\u001b[39m\u001b[38;5;124m\"\u001b[39m\u001b[38;5;124mKey \u001b[39m\u001b[38;5;124m'\u001b[39m\u001b[38;5;132;01m{\u001b[39;00mkey\u001b[38;5;132;01m}\u001b[39;00m\u001b[38;5;124m'\u001b[39m\u001b[38;5;124m not present in vocabulary\u001b[39m\u001b[38;5;124m\"\u001b[39m)\n\u001b[0;32m    520\u001b[0m \u001b[38;5;28;01mif\u001b[39;00m total_weight \u001b[38;5;241m>\u001b[39m \u001b[38;5;241m0\u001b[39m:\n\u001b[0;32m    521\u001b[0m     mean \u001b[38;5;241m=\u001b[39m mean \u001b[38;5;241m/\u001b[39m total_weight\n",
      "\u001b[1;31mKeyError\u001b[0m: \"Key 'kingdom' not present in vocabulary\""
     ]
    }
   ],
   "source": [
    "model.wv.most_similar('kingdom')"
   ]
  },
  {
   "cell_type": "code",
   "execution_count": null,
   "id": "63c1473a-9e06-4c85-9594-363b4d2addaf",
   "metadata": {},
   "outputs": [],
   "source": []
  }
 ],
 "metadata": {
  "kernelspec": {
   "display_name": "Python 3 (ipykernel)",
   "language": "python",
   "name": "python3"
  },
  "language_info": {
   "codemirror_mode": {
    "name": "ipython",
    "version": 3
   },
   "file_extension": ".py",
   "mimetype": "text/x-python",
   "name": "python",
   "nbconvert_exporter": "python",
   "pygments_lexer": "ipython3",
   "version": "3.11.7"
  }
 },
 "nbformat": 4,
 "nbformat_minor": 5
}
